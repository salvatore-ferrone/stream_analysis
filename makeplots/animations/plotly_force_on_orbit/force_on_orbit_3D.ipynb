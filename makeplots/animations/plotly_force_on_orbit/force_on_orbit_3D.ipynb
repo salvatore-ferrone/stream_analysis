{
 "cells": [
  {
   "cell_type": "code",
   "execution_count": 1,
   "metadata": {},
   "outputs": [],
   "source": [
    "from gcs import path_handler as ph\n",
    "import gcs\n",
    "import os \n",
    "import h5py\n",
    "import stream_analysis as sa\n",
    "import numpy as np \n",
    "from astropy.io import fits\n",
    "\n",
    "import plotly.graph_objects as go"
   ]
  },
  {
   "cell_type": "code",
   "execution_count": 2,
   "metadata": {},
   "outputs": [],
   "source": [
    "def get_masses_and_radii(GCnames,montecarlokey):\n",
    "    Masses,rh_mes,_,_,_,_,_,_=gcs.extractors.MonteCarloObservables.extract_all_GC_observables(GCnames,montecarlokey)\n",
    "    rs = np.array([gcs.misc.half_mass_to_plummer(x).value for x in rh_mes])\n",
    "    Masses = np.array([x.value for x in Masses])    \n",
    "    return Masses,rs"
   ]
  },
  {
   "cell_type": "code",
   "execution_count": 3,
   "metadata": {},
   "outputs": [],
   "source": [
    "def extract_foorb_data(infilename):\n",
    "    with h5py.File(infilename, \"r\") as foorb:\n",
    "        ax=foorb['ax'][()]\n",
    "        ay=foorb['ay'][()]\n",
    "        az=foorb['az'][()]\n",
    "        tau=foorb['tau'][()]\n",
    "        time=foorb['time'][()]\n",
    "        tau_indexing=foorb['tau_indexing'][()]\n",
    "        time_indexing=foorb['time_indexing'][()]\n",
    "        magnitude = np.sqrt(ax**2 + ay**2 + az**2)\n",
    "    return ax,ay,az,tau,time,tau_indexing,time_indexing,magnitude\n"
   ]
  },
  {
   "cell_type": "code",
   "execution_count": 4,
   "metadata": {},
   "outputs": [],
   "source": [
    "def get_perturbing_orbits(GCnames, MWpotential, montecarlokey):\n",
    "    ts,xs,ys,zs,vxs,vys,vzs=gcs.extractors.GCOrbits.extract_orbits_from_all_GCS(GCnames, MWpotential, montecarlokey) # type: ignore\n",
    "    today_index = np.argmin(np.abs(ts))\n",
    "    ts=ts[0:today_index]\n",
    "    xs,ys,zs=xs[:,0:today_index],ys[:,0:today_index],zs[:,0:today_index]\n",
    "    vxs,vys,vzs=vxs[:,0:today_index],vys[:,0:today_index],vzs[:,0:today_index]\n",
    "    return ts,xs,ys,zs,vxs,vys,vzs"
   ]
  },
  {
   "cell_type": "code",
   "execution_count": 5,
   "metadata": {},
   "outputs": [],
   "source": [
    "def get_perturber_names(GCname):\n",
    "    path_to_cluster_data=\"/home/sferrone/tstrippy/tstrippy/data/2023-03-28-merged.fits\"\n",
    "    with fits.open(path_to_cluster_data) as myfits:\n",
    "        myGCnames=myfits[1].data['Cluster']\n",
    "    GCnames = [str(myGCnames[i]) for i in range(len(myGCnames))]\n",
    "    GCnames.pop(GCnames.index(GCname))\n",
    "    return GCnames"
   ]
  },
  {
   "cell_type": "code",
   "execution_count": 6,
   "metadata": {},
   "outputs": [],
   "source": [
    "def extraxt_dau_density(path_tau):\n",
    "    with h5py.File(path_tau,'r') as myfile:\n",
    "        time_stamps = myfile['time_stamps'][:]\n",
    "        tau_centers = myfile['tau_centers'][:]\n",
    "        tau_counts  = myfile['tau_counts'][:]\n",
    "    return time_stamps,tau_centers,tau_counts"
   ]
  },
  {
   "cell_type": "code",
   "execution_count": 57,
   "metadata": {},
   "outputs": [],
   "source": [
    "\n",
    "def prepare_proxy_stream(tau,hostorbit,accels,my_tau_left,my_tau_right,my_time_indexing,tau_indexing):\n",
    "    \"\"\"\n",
    "    The convience functions down samples the FOORB to only be the lenght permitted by the tau density map.\n",
    "    The function assums that the host orbit and the FOORB are indexed to the same time array.\n",
    "    The function also requires that the accels are already downsampled to the time in question\n",
    "\n",
    "    \"\"\"\n",
    "\n",
    "\n",
    "    # unpack the host orbit\n",
    "    xH,yH,zH=hostorbit\n",
    "    # unpack the accelerations\n",
    "    ax,ay,az,magnitude=accels\n",
    "    assert(len(ax.shape)==1)\n",
    "    assert(len(ay.shape)==1)\n",
    "    assert(len(az.shape)==1)\n",
    "\n",
    "    ### THE hostorbit and accels are already indexed to the time and tau arrays\n",
    "    # example \n",
    "    # xH[my_time_indexing] is the x position of the host at the time of the stream\n",
    "    \n",
    "    blank_dexes=np.arange(0,len(tau),1)\n",
    "    leftdex=np.argmin(np.abs(tau - my_tau_left))\n",
    "    rightdex=np.argmin(np.abs(tau - my_tau_right))\n",
    "    cond1 = blank_dexes >= leftdex\n",
    "    cond2 = blank_dexes <= rightdex\n",
    "    cond = np.logical_and(cond1, cond2)\n",
    "    # extract the stream-proxy data\n",
    "    x_stream=xH[my_time_indexing + tau_indexing[cond]]\n",
    "    y_stream=yH[my_time_indexing + tau_indexing[cond]]\n",
    "    z_stream=zH[my_time_indexing + tau_indexing[cond]]\n",
    "\n",
    "    # get the force on the stream-proxy\n",
    "    ax_sub=ax[cond]\n",
    "    ay_sub=ay[cond]\n",
    "    az_sub=az[cond]\n",
    "    magnitude_sub=magnitude[cond]\n",
    "    # normalize the force\n",
    "    return x_stream,y_stream,z_stream,ax_sub,ay_sub,az_sub,magnitude_sub\n"
   ]
  },
  {
   "cell_type": "code",
   "execution_count": 58,
   "metadata": {},
   "outputs": [],
   "source": [
    "def colored_objects(backgroundcolor=\"black\"):\n",
    "    if backgroundcolor == \"black\":\n",
    "        textcolor = \"white\"\n",
    "        linecolor = \"gray\"\n",
    "        perturbercolor = \"white\"\n",
    "    else:\n",
    "        textcolor = \"black\"\n",
    "        linecolor = \"gray\"\n",
    "        perturbercolor = \"black\"\n",
    "    return textcolor,linecolor,perturbercolor"
   ]
  },
  {
   "cell_type": "code",
   "execution_count": 59,
   "metadata": {},
   "outputs": [],
   "source": [
    "# data parameters\n",
    "GCname              =   \"Pal5\"\n",
    "mwpotential         =   \"pouliasis2017pii-GCNBody\"\n",
    "montecarlokey       =   \"monte-carlo-000\"\n",
    "NP                  =   int(1e5)\n",
    "internal_dynamics   =   \"isotropic-plummer\""
   ]
  },
  {
   "cell_type": "code",
   "execution_count": 60,
   "metadata": {},
   "outputs": [],
   "source": [
    "# hyperparameters\n",
    "threshold = 50\n",
    "limits = 15\n",
    "camera_distance=1.5\n",
    "backgroundcolor = \"black\"\n"
   ]
  },
  {
   "cell_type": "code",
   "execution_count": 61,
   "metadata": {},
   "outputs": [],
   "source": [
    "# paths\n",
    "path_tau        =   ph.tauDensityMaps(GCname,mwpotential,montecarlokey,NP,internal_dynamics)\n",
    "path_FOORB      =   ph.ForceOnOrbit(GCname, mwpotential, montecarlokey, )\n",
    "path_host_orb   =   ph.GC_orbits(mwpotential, GCname)"
   ]
  },
  {
   "cell_type": "code",
   "execution_count": 62,
   "metadata": {},
   "outputs": [],
   "source": [
    "# open the perturber data\n",
    "GCnames                 =   get_perturber_names(GCname)\n",
    "ts,xs,ys,zs,vxs,vys,vzs =   get_perturbing_orbits(GCnames, mwpotential, montecarlokey)\n",
    "Masses,rs               =   get_masses_and_radii(GCnames,montecarlokey)"
   ]
  },
  {
   "cell_type": "code",
   "execution_count": 63,
   "metadata": {},
   "outputs": [],
   "source": [
    "# get the host orbit \n",
    "tH,xH,yH,zH,vxH,vyH,vzH     =   gcs.extractors.GCOrbits.extract_whole_orbit(path_host_orb,montecarlokey=montecarlokey)"
   ]
  },
  {
   "cell_type": "code",
   "execution_count": 64,
   "metadata": {},
   "outputs": [],
   "source": [
    "thetaH=np.arctan2(yH,xH)\n",
    "unwraptheta=np.unwrap(thetaH)\n",
    "meanThetaDot = (unwraptheta[-1]-unwraptheta[0])/(tH[-1]-tH[0])"
   ]
  },
  {
   "cell_type": "code",
   "execution_count": 65,
   "metadata": {},
   "outputs": [],
   "source": [
    "# open the FORCE ON ORBIT data\n",
    "ax,ay,az,tau,time,tau_indexing,time_indexing,magnitude = extract_foorb_data(path_FOORB)"
   ]
  },
  {
   "cell_type": "code",
   "execution_count": 66,
   "metadata": {},
   "outputs": [],
   "source": [
    "# extract 1D stream density profile and get the desired length\n",
    "time_stamps,tau_centers,tau_counts  =   extraxt_dau_density(path_tau)\n",
    "left_indexes,right_indexes          =   sa.streamLength.get_envelop_indexes(tau_counts,threshold)\n",
    "tau_left,tau_right                  =   sa.streamLength.tau_envelopes(tau_centers,left_indexes,right_indexes)"
   ]
  },
  {
   "cell_type": "code",
   "execution_count": 67,
   "metadata": {},
   "outputs": [],
   "source": [
    "# pre plot prep\n",
    "textcolor,linecolor,perturbercolor = colored_objects(backgroundcolor)"
   ]
  },
  {
   "cell_type": "code",
   "execution_count": 68,
   "metadata": {},
   "outputs": [],
   "source": [
    "sizes = np.log10(Masses)\n",
    "sizes = np.sqrt(Masses/np.max(Masses)*100)"
   ]
  },
  {
   "cell_type": "markdown",
   "metadata": {},
   "source": [
    "### Sub sample data at a given timestep"
   ]
  },
  {
   "cell_type": "code",
   "execution_count": 69,
   "metadata": {},
   "outputs": [],
   "source": [
    "blank_dexes=np.arange(0,tau_indexing.shape[0],1)"
   ]
  },
  {
   "cell_type": "code",
   "execution_count": 70,
   "metadata": {},
   "outputs": [],
   "source": [
    "xaxisline = go.Scatter3d(x=[-limits, limits], y=[0, 0], z=[0, 0], marker=dict(color=linecolor, size=1),showlegend=False)\n",
    "yaxisline = go.Scatter3d(x=[0, 0], y=[-limits, limits], z=[0, 0], marker=dict(color=linecolor, size=1),showlegend=False)\n",
    "zaxisline = go.Scatter3d(x=[0, 0], y=[0, 0], z=[-limits, limits], marker=dict(color=linecolor, size=1),showlegend=False)\n",
    "\n",
    "\n",
    "\n",
    "\n",
    "\n",
    "xaxis=dict(\n",
    "        title='',\n",
    "        range=[-limits, limits],  # Set the x-axis limits\n",
    "        showbackground=False,  # Remove the background pane\n",
    "        showgrid=False,  # Remove the grid lines\n",
    "        zeroline=False,  # Remove the zero line\n",
    "        showticklabels=False,\n",
    "        )\n",
    "yaxis=dict(\n",
    "        title='',\n",
    "        range=[-limits, limits],  # Set the y-axis limits\n",
    "        showbackground=False,  # Remove the background pane\n",
    "        showgrid=False,  # Remove the grid lines\n",
    "        zeroline=False,  # Remove the zero line\n",
    "        showticklabels=False,\n",
    "        )\n",
    "zaxis=dict(\n",
    "        title='',\n",
    "        range=[-limits, limits],  # Set the z-axis limits\n",
    "        showbackground=False,  # Remove the background pane\n",
    "        showgrid=False,  # Remove the grid lines\n",
    "        zeroline=False,  # Remove the zero line\n",
    "        showticklabels=False\n",
    "\n",
    "        )\n",
    "annotationX = dict(x=0.99*limits,y=0,z=0,text=\"x\".format(limits),showarrow=False,font=dict(size=10,color=textcolor))\n",
    "annotationY = dict(x=0,y=0.99*limits,z=0,text=\"y\".format(limits),showarrow=False,font=dict(size=10,color=textcolor))\n",
    "annotationZ = dict(x=0,y=0,z=0.99*limits,text=\"z\".format(limits),showarrow=False,font=dict(size=10,color=textcolor))\n",
    "\n",
    "\n"
   ]
  },
  {
   "cell_type": "code",
   "execution_count": 71,
   "metadata": {},
   "outputs": [],
   "source": [
    "i0=int(np.abs(time.shape[0] - time_stamps.shape[0]))"
   ]
  },
  {
   "cell_type": "code",
   "execution_count": 72,
   "metadata": {},
   "outputs": [],
   "source": [
    "i=i0+30\n",
    "## coordinate the time indexes\n",
    "time_index_foorb = np.argmin(np.abs(time-time_stamps[i]))\n",
    "simulation_time_index = np.argmin(np.abs(ts-time_stamps[i]))"
   ]
  },
  {
   "cell_type": "code",
   "execution_count": 73,
   "metadata": {},
   "outputs": [],
   "source": [
    "my_time_indexing = time_indexing[time_index_foorb]\n",
    "x_stream,y_stream,z_stream,ax_sub,ay_sub,az_sub,magnitude_sub=prepare_proxy_stream(tau,(xH,yH,zH),(ax[time_index_foorb],ay[time_index_foorb],az[time_index_foorb],magnitude[time_index_foorb]),tau_left[i],tau_right[i],my_time_indexing,tau_indexing)"
   ]
  },
  {
   "cell_type": "code",
   "execution_count": 74,
   "metadata": {},
   "outputs": [],
   "source": [
    "# leftdex=np.argmin(np.abs(tau - tau_left[i]))\n",
    "# rightdex=np.argmin(np.abs(tau - tau_right[i]))\n",
    "# cond1 = blank_dexes >= leftdex\n",
    "# cond2 = blank_dexes <= rightdex\n",
    "# cond = np.logical_and(cond1, cond2)\n",
    "# # extract the stream-proxy data\n",
    "# x_stream=xH[time_indexing[time_index_foorb] + tau_indexing[cond]]\n",
    "# y_stream=yH[time_indexing[time_index_foorb] + tau_indexing[cond]]\n",
    "# z_stream=zH[time_indexing[time_index_foorb] + tau_indexing[cond]]\n",
    "\n",
    "# # get the force on the stream-proxy\n",
    "# ax_sub=ax[time_index_foorb][cond]\n",
    "# ay_sub=ay[time_index_foorb][cond]\n",
    "# az_sub=az[time_index_foorb][cond]\n",
    "# magnitude_sub=magnitude[time_index_foorb][cond]\n",
    "# # normalize the force\n",
    "# ax_sub=ax_sub/magnitude_sub\n",
    "# ay_sub=ay_sub/magnitude_sub\n",
    "# az_sub=az_sub/magnitude_sub"
   ]
  },
  {
   "cell_type": "code",
   "execution_count": 75,
   "metadata": {},
   "outputs": [],
   "source": [
    "# get the positions of all the perturbers at this time\n",
    "x_per,y_per,z_per = xs[:,simulation_time_index], ys[:,simulation_time_index],zs[:,simulation_time_index]"
   ]
  },
  {
   "cell_type": "code",
   "execution_count": 76,
   "metadata": {},
   "outputs": [],
   "source": [
    "# get the position of the host at this time\n",
    "xHH,yHH,zHH=xH[simulation_time_index],yH[simulation_time_index],zH[simulation_time_index]"
   ]
  },
  {
   "cell_type": "code",
   "execution_count": 77,
   "metadata": {},
   "outputs": [],
   "source": [
    "# get the current camera angle\n",
    "mytheta = meanThetaDot*(time_stamps[i]-tH[0]) + thetaH[0]\n",
    "x_camera = camera_distance*np.cos(mytheta)\n",
    "y_camera = camera_distance*np.sin(mytheta)\n",
    "z_camera = (1/2)*camera_distance"
   ]
  },
  {
   "cell_type": "code",
   "execution_count": 78,
   "metadata": {},
   "outputs": [],
   "source": [
    "\n",
    "\n",
    "def create_traces(host,stream,forcevectors,perturber,sizes,cone_params):\n",
    "        x_per,y_per,z_per = perturber\n",
    "        x_stream,y_stream,z_stream = stream\n",
    "        xHH,yHH,zHH = host\n",
    "        x_cone,y_cone,z_cone,ax_sub,ay_sub,az_sub = forcevectors\n",
    "        perturber_trace = go.Scatter3d(x=x_per, y=y_per, z=z_per, mode='markers', marker=dict(size=sizes,color=perturbercolor),showlegend=False)\n",
    "        host_trace = go.Scatter3d(x=[xHH], y=[yHH], z=[zHH], mode='markers', marker=dict(size=4),showlegend=False)\n",
    "        stream_trace = go.Scatter3d(x=x_cone, y=y_cone, z=z_cone, mode='lines', marker=dict(size=4),showlegend=False)\n",
    "        # Add 3D cones for the vectors\n",
    "        cone=go.Cone(x=x_stream, y=y_stream, z=z_stream,u=ax_sub, v=ay_sub, w=az_sub,**cone_params)\n",
    "        return perturber_trace,host_trace,stream_trace,cone\n",
    "\n",
    "\n",
    "def prepare_scene(x_camera,y_camera,z_camera,xaxis,yaxis,zaxis,annotationX,annotationY,annotationZ):\n",
    "        camera = dict(eye=dict(x=x_camera, y=y_camera, z=z_camera))\n",
    "        scene=dict(\n",
    "                camera=camera,\n",
    "                xaxis=xaxis,\n",
    "                yaxis=yaxis,\n",
    "                zaxis=zaxis,\n",
    "                aspectmode='cube',\n",
    "                annotations=[annotationX,annotationY,annotationZ]\n",
    "                )\n",
    "        return scene"
   ]
  },
  {
   "cell_type": "code",
   "execution_count": 98,
   "metadata": {},
   "outputs": [],
   "source": [
    "# Define common parameters\n",
    "cone_params = {\n",
    "    'colorscale': 'rainbow',\n",
    "    'cmin': 0,\n",
    "    'cmax': 50,\n",
    "    'sizemode': 'absolute',\n",
    "    'sizeref': 1,\n",
    "    'showscale': True,\n",
    "    'colorbar': dict(\n",
    "        title=dict(text=r'g '),\n",
    "        thickness=5,  # Adjust thickness\n",
    "        len=0.5       # Adjust length\n",
    "    )\n",
    "}  "
   ]
  },
  {
   "cell_type": "code",
   "execution_count": 99,
   "metadata": {},
   "outputs": [
    {
     "data": {
      "text/plain": [
       "array([0.45080576, 0.45179975, 0.45301319, 0.45444736, 0.45610185,\n",
       "       0.45797513, 0.46006522, 0.46237032])"
      ]
     },
     "execution_count": 99,
     "metadata": {},
     "output_type": "execute_result"
    }
   ],
   "source": [
    "np.sqrt(ax_sub**2 + ay_sub**2 + az_sub**2)"
   ]
  },
  {
   "cell_type": "code",
   "execution_count": 100,
   "metadata": {},
   "outputs": [],
   "source": [
    "scene=prepare_scene(x_camera,y_camera,z_camera,xaxis,yaxis,zaxis,annotationX,annotationY,annotationZ)\n",
    "perturber_trace,host_trace,stream_trace,cone=create_traces((xHH,yHH,zHH),(x_stream,y_stream,z_stream),(x_stream,y_stream,z_stream,ax_sub,ay_sub,az_sub),(x_per,y_per,z_per),sizes,cone_params)"
   ]
  },
  {
   "cell_type": "code",
   "execution_count": 101,
   "metadata": {},
   "outputs": [
    {
     "data": {
      "application/vnd.plotly.v1+json": {
       "config": {
        "plotlyServerURL": "https://plot.ly"
       },
       "data": [
        {
         "marker": {
          "color": "gray",
          "size": 1
         },
         "showlegend": false,
         "type": "scatter3d",
         "x": [
          -15,
          15
         ],
         "y": [
          0,
          0
         ],
         "z": [
          0,
          0
         ]
        },
        {
         "marker": {
          "color": "gray",
          "size": 1
         },
         "showlegend": false,
         "type": "scatter3d",
         "x": [
          0,
          0
         ],
         "y": [
          -15,
          15
         ],
         "z": [
          0,
          0
         ]
        },
        {
         "marker": {
          "color": "gray",
          "size": 1
         },
         "showlegend": false,
         "type": "scatter3d",
         "x": [
          0,
          0
         ],
         "y": [
          0,
          0
         ],
         "z": [
          -15,
          15
         ]
        },
        {
         "marker": {
          "color": "white",
          "size": [
           4.652928775824256,
           1.5625697953954676,
           2.52901939223376,
           0.18647137475779202,
           2.0893736462161425,
           0.15330537521909005,
           0.7053098106038298,
           0.4855788319423087,
           2.3629973222959153,
           2.6800636404293217,
           2.1433405304434534,
           1.1242594855561345,
           4.457925127982805,
           0.9040237182998746,
           4.480640817113072,
           0.25490119515086646,
           0.6852321848892694,
           2.2132503602982663,
           0.6231571816937094,
           0.5541719940458663,
           1.0698925416888472,
           2.1901950403379176,
           0.9289478792895478,
           1.8024236362373316,
           1.2463143633874187,
           2.172743008903979,
           3.5694700939031603,
           1.2625009423527669,
           10,
           3.221911026067988,
           3.2804605347110876,
           0.13760090898058874,
           1.1932551562931981,
           2.503804212192903,
           2.6129315275208973,
           1.9511808217038142,
           4.351322804881783,
           2.058780872313284,
           3.1542413634153306,
           2.727003524631065,
           1.6935230451837755,
           2.754783564512763,
           1.1985608968051034,
           0.6962553939497065,
           1.3088918861170877,
           2.8543314667058923,
           1.5147330601973479,
           2.1014860586790327,
           1.4653354980438478,
           2.988981457333629,
           0.9082252454356797,
           1.2463143633874187,
           0.4310299317106143,
           3.504891433324414,
           2.503804212192903,
           1.6402302673555438,
           1.5915385398594242,
           1.5609446573630512,
           2.1901950403379176,
           1.6784692083111714,
           1.1543341412453632,
           3.840077198885592,
           4.27185334070202,
           2.1014860586790327,
           0.9357534492410368,
           1.8164504908713595,
           0.3698675850312552,
           1.8984364392061126,
           1.0324678434293904,
           1.6168528683740964,
           2.967676970120699,
           2.6322868404017603,
           1.2534217126919878,
           2.7959361371906786,
           0.9781885257342638,
           3.78683265049337,
           1.5859471701150512,
           1.236090118772045,
           0.6702526230311994,
           1.4293870043210228,
           1.087539018496012,
           2.1433405304434534,
           1.86471374757792,
           3.53014573835276,
           1.7232362424253158,
           5.063054193517729,
           2.9419079412900366,
           2.2473899130591017,
           1.0459008697967627,
           5.766171256949191,
           3.8860677866758313,
           1.752445716662207,
           1.4461571693199997,
           1.473970431347695,
           1.3621049699779304,
           1.4627350780744413,
           5.2597504331754505,
           3.800213726289909,
           0.7623767271576928,
           5.939628592534965,
           1.5931324696929152,
           2.0649356868587807,
           1.4240501331504758,
           1.97702540237205,
           0.8139020507550956,
           1.3741633356688159,
           1.86471374757792,
           1.844184163370458,
           2.3414169860445773,
           2.8454255745859203,
           2.3305518833997825,
           0.7088991966887745,
           1.5478821293284628,
           2.3359907516679455,
           1.1943181900508317,
           1.157627540637592,
           1.438237782420461,
           2.5539856380946837,
           1.0213457828384211,
           1.008844139330714,
           2.4108468929230558,
           0.6292369079245242,
           0.8913003105883126,
           1.37323952827992,
           0.9768903320292318,
           2.4108468929230558,
           0.7772135573351663,
           1.708444241375271,
           1.6168528683740964,
           2.6177837722341755,
           1.7740372380047187,
           1.8715068984820735,
           1.0012682313276446,
           1.0188577260784981,
           3.453828891267239,
           1.3452303408899018,
           1.6324749980594926,
           1.5527934546134445,
           6.35258450941336,
           0.8170144982528339,
           2.23606797749979,
           2.28101856311587,
           2.5737842726680693,
           2.69423147645687,
           2.0526076024274946,
           0.7523229676912276,
           1.781176249697741,
           0.9910769407760788,
           2.23606797749979,
           1.387946662911185,
           0.6003383140951095,
           0.8798361637980696,
           0.9794849988356955,
           3.4131724528498997,
           1.9511808217038142,
           1.4355882785756355,
           1.8303698552769598,
           0.2608070255352181,
           3.625907903108877,
           3.979643633766301,
           1.752445716662207,
           0.3963667480815861,
           0.2656282658801916,
           0.7071067811865476
          ]
         },
         "mode": "markers",
         "showlegend": false,
         "type": "scatter3d",
         "x": [
          -0.320464879,
          -3.60638666,
          -4.95529413,
          20.689043,
          -5.32282019,
          10.0094309,
          12.9217253,
          51.2878761,
          -29.1986752,
          12.1907215,
          -4.75597143,
          -11.4883213,
          -15.5262709,
          15.2821617,
          8.88319683,
          -8.65411091,
          25.7294254,
          3.05206203,
          -18.9524765,
          11.5222301,
          1.70579588,
          -1.51392174,
          24.6724491,
          -14.7398634,
          6.6313858,
          -6.47812796,
          5.32311344,
          -5.7170558,
          -6.84721565,
          -5.62966585,
          -8.38360691,
          6.40795326,
          -9.53883076,
          -16.2746887,
          -12.9861765,
          -20.1730461,
          -15.3279047,
          7.27588081,
          5.58025074,
          -1.65797973,
          -1.48999429,
          3.33406997,
          -2.04612041,
          11.8171587,
          -1.82301104,
          0.0974151269,
          3.6299417,
          13.6403103,
          2.72536731,
          -2.60418344,
          2.02575231,
          1.20814705,
          -1.38180113,
          -0.704908431,
          -7.4897995,
          0.379773706,
          -3.5611217,
          -6.0057621,
          1.77306223,
          -0.820063293,
          10.0525074,
          -1.16920137,
          3.8121357,
          -2.99733901,
          -0.0991329849,
          -1.4857167,
          0.952553868,
          -1.09917986,
          -5.71353579,
          3.24807477,
          1.84997666,
          1.05617654,
          -1.62219822,
          2.06622028,
          1.03246295,
          -0.0362724401,
          0.319022387,
          -0.94269222,
          14.2981071,
          0.330534041,
          1.16957426,
          -0.453806847,
          1.44880819,
          3.55491948,
          1.38696504,
          0.489500523,
          1.43960345,
          1.09840214,
          2.38190961,
          -2.61110759,
          -0.319986254,
          0.496089458,
          3.11005807,
          -2.07019615,
          -3.86716771,
          5.94085121,
          -0.751812875,
          -1.19570768,
          -2.2130127,
          -2.89408469,
          -0.126143828,
          1.00036407,
          -0.406366199,
          -4.41678429,
          -0.233539626,
          3.23829341,
          1.31494641,
          0.975975215,
          -1.64490545,
          5.02202892,
          -1.38741183,
          0.677327752,
          -0.445365667,
          2.52799439,
          -0.210164398,
          -0.669371843,
          -4.40085983,
          0.684329331,
          1.14592493,
          0.99908042,
          3.29433298,
          1.44032383,
          -0.0189026333,
          -4.97762156,
          2.87963438,
          0.675781071,
          1.4277277,
          -4.76680136,
          -0.521768451,
          2.6091702,
          0.0487617925,
          0.247281611,
          -1.26754713,
          0.354051173,
          6.25012016,
          2.67383265,
          -2.69728756,
          2.83862996,
          -25.6052933,
          1.81831717,
          2.27424645,
          -2.50959849,
          4.96854687,
          3.97674942,
          -4.44978762,
          -30.6916332,
          -5.80936813,
          39.0558167,
          -5.22413778,
          -17.9380474,
          5.98495865,
          4.71428347,
          -3.25275779,
          3.90634704,
          4.09782362,
          20.8168774,
          13.1958809,
          28.5587482,
          9.9420042,
          7.79543591,
          -4.61936188,
          -24.3257008,
          -34.7819901,
          0.718195856
         ],
         "y": [
          5.49439621,
          11.0983791,
          1.43324304,
          13.0009928,
          1.9543978,
          10.5111074,
          42.5805473,
          42.6293945,
          -21.7639446,
          11.8903694,
          4.92670488,
          1.45329189,
          -24.0677319,
          43.4632339,
          -9.3164072,
          4.40258121,
          71.1570511,
          -15.9677191,
          21.155077,
          -61.8645782,
          -8.05622578,
          2.82928324,
          17.8008175,
          -13.8117266,
          -5.03850746,
          -3.51072836,
          7.67805052,
          0.0794301555,
          -1.80412114,
          -0.207528472,
          9.54620361,
          2.75061297,
          6.06048918,
          -4.59717417,
          -6.77903175,
          4.95817661,
          11.1801147,
          1.9457339,
          -7.21353006,
          -4.81581831,
          4.2530961,
          -0.872630417,
          -1.56367648,
          -19.3629017,
          -4.14321518,
          0.857910991,
          -4.90504694,
          -5.82376337,
          2.16298676,
          0.293161958,
          -2.95058799,
          2.89022589,
          -0.709217608,
          5.70480299,
          24.8462849,
          3.12885666,
          1.4952575,
          -1.10911226,
          3.63022375,
          -1.91035545,
          -39.9185524,
          -1.31529462,
          -1.98491216,
          4.03483725,
          3.60220718,
          -0.997075915,
          -2.15349984,
          -2.38857031,
          -3.36977649,
          -0.360157579,
          -2.04234433,
          6.87449026,
          1.01602066,
          5.48457909,
          1.28382897,
          -7.67605114,
          3.05937123,
          -3.33684134,
          4.67034054,
          -0.0690771267,
          -2.28943634,
          0.760601759,
          -0.631242692,
          12.9987564,
          2.63040853,
          -0.847684741,
          1.47570896,
          0.133965775,
          -3.53410625,
          -2.16663861,
          -2.44952369,
          -0.464841336,
          4.69657612,
          -0.0416746773,
          1.079162,
          -4.80890274,
          -1.46726716,
          -0.200634167,
          1.11632419,
          2.58955669,
          -1.53112209,
          0.078272894,
          -0.047530327,
          -1.63028371,
          -0.0468807109,
          -3.32464862,
          -2.24912786,
          0.0434892364,
          -2.78676248,
          -2.73295283,
          0.0751226619,
          1.48943281,
          2.12951231,
          1.04380453,
          -2.06441617,
          3.35223556,
          -2.11027622,
          2.40612483,
          -5.39997673,
          1.01057279,
          2.70715809,
          -2.97699308,
          1.67131424,
          5.85408783,
          1.66707909,
          1.93925083,
          1.13960326,
          8.86999035,
          -0.200922325,
          1.23065293,
          -1.10229373,
          0.756498754,
          -0.942975998,
          0.026763808,
          -2.22862625,
          -2.15223336,
          1.27664888,
          3.10462427,
          -3.58793521,
          0.696713746,
          -0.972288907,
          -3.00424218,
          -1.79160166,
          3.70773244,
          -2.64678311,
          3.06034756,
          10.5376968,
          0.369769663,
          0.758830369,
          -0.116835877,
          -4.37837505,
          20.456789,
          6.04624224,
          3.33014965,
          3.22808671,
          1.77170217,
          -14.2006788,
          38.3543549,
          -0.0582403466,
          3.84420037,
          -1.40935194,
          3.59279513,
          -0.182330862,
          0.143071353
         ],
         "z": [
          2.84445429,
          4.01782274,
          -5.60909414,
          -43.5363884,
          5.31582785,
          2.72072911,
          51.143486,
          85.6313782,
          1.40676355,
          -6.68057203,
          -3.04408455,
          4.27269697,
          45.3093643,
          -5.77592659,
          -2.72875309,
          -1.86808026,
          17.1243038,
          6.87772322,
          -77.6230621,
          99.3949966,
          -19.2276859,
          -1.26894069,
          -1.62492478,
          -16.7569008,
          0.827970386,
          -0.938337326,
          13.3444538,
          9.30823994,
          0.612953663,
          1.75281298,
          -3.15608501,
          -23.7209454,
          34.0041847,
          -9.91494083,
          -6.24347401,
          -0.747610748,
          -25.8260746,
          -0.384338856,
          19.8454132,
          0.132263303,
          -0.73362565,
          -2.34250855,
          1.0436691,
          -25.7520008,
          -0.904857576,
          -2.66219759,
          0.265022844,
          7.42136335,
          -2.29906774,
          1.37459147,
          0.815978408,
          2.11690807,
          -1.73978078,
          -6.70058632,
          -8.15270424,
          1.24963474,
          -1.28121245,
          4.75923586,
          2.6134541,
          0.520910442,
          20.6478825,
          -0.523584664,
          -3.33627367,
          -3.87808442,
          1.00812733,
          -1.22600412,
          -0.399971664,
          -1.96183169,
          1.11956537,
          0.216466278,
          0.549669802,
          -8.35864925,
          -1.23905909,
          -3.76287508,
          -1.12054276,
          -2.43325734,
          1.59829712,
          -0.430598766,
          2.24043941,
          0.0832193568,
          -0.14248088,
          0.523998618,
          1.20422769,
          -4.68738651,
          1.10726917,
          -0.0309414566,
          -0.59994185,
          0.053374406,
          0.24037464,
          -1.31833935,
          2.04420495,
          -0.492362559,
          1.75785041,
          -0.770487607,
          2.1086874,
          0.918981314,
          -0.159142315,
          0.589556813,
          0.159990534,
          -0.654224336,
          0.0585348606,
          1.13725138,
          0.338372052,
          0.16643627,
          0.00813759957,
          0.618719876,
          -0.392316222,
          -0.241785824,
          0.359538615,
          0.719800055,
          0.421997875,
          -0.775003731,
          0.314269572,
          -2.15965676,
          -0.114944719,
          -0.994736135,
          -0.927490473,
          -1.39870453,
          -0.120100006,
          -1.99789023,
          0.162276492,
          -0.0181862693,
          0.884335816,
          0.745987654,
          0.429089814,
          -0.795134902,
          0.870172501,
          9.74158001,
          1.14979196,
          1.12760973,
          0.0457043201,
          0.512613595,
          0.0690024793,
          0.757125914,
          0.00241390103,
          -1.26350021,
          -3.52671862,
          2.46832705,
          28.4580574,
          -0.127388582,
          -3.13433909,
          0.222302318,
          2.01479387,
          -0.276029229,
          -4.02589464,
          2.50740647,
          0.966789901,
          -5.52972269,
          -0.423200548,
          4.43945599,
          -3.71445775,
          -33.2058563,
          -0.293108255,
          -0.363263279,
          2.53404522,
          -4.12183237,
          -11.7789946,
          -43.2568626,
          3.74094868,
          8.76430416,
          7.14341211,
          -3.14571071,
          19.1914768,
          4.44122982
         ]
        },
        {
         "marker": {
          "size": 4
         },
         "mode": "markers",
         "showlegend": false,
         "type": "scatter3d",
         "x": [
          9.97732258
         ],
         "y": [
          -9.29160023
         ],
         "z": [
          9.24314308
         ]
        },
        {
         "marker": {
          "size": 4
         },
         "mode": "lines",
         "showlegend": false,
         "type": "scatter3d",
         "x": [
          10.6752071,
          10.4709005,
          10.2622318,
          10.0492601,
          9.83204365,
          9.61064243,
          9.38511848,
          9.15553474
         ],
         "y": [
          -9.43157005,
          -9.39414883,
          -9.35281467,
          -9.30755806,
          -9.2583704,
          -9.20524216,
          -9.1481657,
          -9.08712959
         ],
         "z": [
          8.75003529,
          8.90278244,
          9.05144215,
          9.19592571,
          9.33614159,
          9.47199821,
          9.60340214,
          9.7302599
         ]
        },
        {
         "cmax": 50,
         "cmin": 0,
         "colorbar": {
          "len": 0.5,
          "thickness": 5,
          "title": {
           "text": "g "
          }
         },
         "colorscale": [
          [
           0,
           "rgb(150,0,90)"
          ],
          [
           0.125,
           "rgb(0,0,200)"
          ],
          [
           0.25,
           "rgb(0,25,255)"
          ],
          [
           0.375,
           "rgb(0,152,255)"
          ],
          [
           0.5,
           "rgb(44,255,150)"
          ],
          [
           0.625,
           "rgb(151,255,0)"
          ],
          [
           0.75,
           "rgb(255,234,0)"
          ],
          [
           0.875,
           "rgb(255,111,0)"
          ],
          [
           1,
           "rgb(255,0,0)"
          ]
         ],
         "showscale": true,
         "sizemode": "absolute",
         "sizeref": 1,
         "type": "cone",
         "u": [
          -0.2589642599769969,
          -0.25643462555494356,
          -0.25397968087482337,
          -0.2515670059064405,
          -0.24916660704346213,
          -0.24675098833119766,
          -0.2442950531511463,
          -0.24177594482633769
         ],
         "v": [
          0.2733664822073427,
          0.2722333400749067,
          0.271286111327949,
          0.2705340904466637,
          0.26997994951032367,
          0.26962124789568664,
          0.26945186635294255,
          0.26946310658678474
         ],
         "w": [
          -0.24785905843306094,
          -0.25348235590008433,
          -0.2590735679892992,
          -0.26466536269184043,
          -0.27028823164334137,
          -0.2759702086858613,
          -0.2817368086434299,
          -0.28761143837996467
         ],
         "x": [
          10.6752071,
          10.4709005,
          10.2622318,
          10.0492601,
          9.83204365,
          9.61064243,
          9.38511848,
          9.15553474
         ],
         "y": [
          -9.43157005,
          -9.39414883,
          -9.35281467,
          -9.30755806,
          -9.2583704,
          -9.20524216,
          -9.1481657,
          -9.08712959
         ],
         "z": [
          8.75003529,
          8.90278244,
          9.05144215,
          9.19592571,
          9.33614159,
          9.47199821,
          9.60340214,
          9.7302599
         ]
        }
       ],
       "layout": {
        "margin": {
         "b": 0,
         "l": 0,
         "r": 0,
         "t": 0
        },
        "paper_bgcolor": "black",
        "plot_bgcolor": "black",
        "scene": {
         "annotations": [
          {
           "font": {
            "color": "white",
            "size": 10
           },
           "showarrow": false,
           "text": "x",
           "x": 14.85,
           "y": 0,
           "z": 0
          },
          {
           "font": {
            "color": "white",
            "size": 10
           },
           "showarrow": false,
           "text": "y",
           "x": 0,
           "y": 14.85,
           "z": 0
          },
          {
           "font": {
            "color": "white",
            "size": 10
           },
           "showarrow": false,
           "text": "z",
           "x": 0,
           "y": 0,
           "z": 14.85
          }
         ],
         "aspectmode": "manual",
         "aspectratio": {
          "x": 1,
          "y": 1,
          "z": 1
         },
         "camera": {
          "eye": {
           "x": 0.8849370871214128,
           "y": -1.2111508377725166,
           "z": 0.75
          }
         },
         "xaxis": {
          "range": [
           -15,
           15
          ],
          "showbackground": false,
          "showgrid": false,
          "showticklabels": false,
          "title": {
           "text": ""
          },
          "zeroline": false
         },
         "yaxis": {
          "range": [
           -15,
           15
          ],
          "showbackground": false,
          "showgrid": false,
          "showticklabels": false,
          "title": {
           "text": ""
          },
          "zeroline": false
         },
         "zaxis": {
          "range": [
           -15,
           15
          ],
          "showbackground": false,
          "showgrid": false,
          "showticklabels": false,
          "title": {
           "text": ""
          },
          "zeroline": false
         }
        },
        "template": {
         "data": {
          "bar": [
           {
            "error_x": {
             "color": "#2a3f5f"
            },
            "error_y": {
             "color": "#2a3f5f"
            },
            "marker": {
             "line": {
              "color": "#E5ECF6",
              "width": 0.5
             },
             "pattern": {
              "fillmode": "overlay",
              "size": 10,
              "solidity": 0.2
             }
            },
            "type": "bar"
           }
          ],
          "barpolar": [
           {
            "marker": {
             "line": {
              "color": "#E5ECF6",
              "width": 0.5
             },
             "pattern": {
              "fillmode": "overlay",
              "size": 10,
              "solidity": 0.2
             }
            },
            "type": "barpolar"
           }
          ],
          "carpet": [
           {
            "aaxis": {
             "endlinecolor": "#2a3f5f",
             "gridcolor": "white",
             "linecolor": "white",
             "minorgridcolor": "white",
             "startlinecolor": "#2a3f5f"
            },
            "baxis": {
             "endlinecolor": "#2a3f5f",
             "gridcolor": "white",
             "linecolor": "white",
             "minorgridcolor": "white",
             "startlinecolor": "#2a3f5f"
            },
            "type": "carpet"
           }
          ],
          "choropleth": [
           {
            "colorbar": {
             "outlinewidth": 0,
             "ticks": ""
            },
            "type": "choropleth"
           }
          ],
          "contour": [
           {
            "colorbar": {
             "outlinewidth": 0,
             "ticks": ""
            },
            "colorscale": [
             [
              0,
              "#0d0887"
             ],
             [
              0.1111111111111111,
              "#46039f"
             ],
             [
              0.2222222222222222,
              "#7201a8"
             ],
             [
              0.3333333333333333,
              "#9c179e"
             ],
             [
              0.4444444444444444,
              "#bd3786"
             ],
             [
              0.5555555555555556,
              "#d8576b"
             ],
             [
              0.6666666666666666,
              "#ed7953"
             ],
             [
              0.7777777777777778,
              "#fb9f3a"
             ],
             [
              0.8888888888888888,
              "#fdca26"
             ],
             [
              1,
              "#f0f921"
             ]
            ],
            "type": "contour"
           }
          ],
          "contourcarpet": [
           {
            "colorbar": {
             "outlinewidth": 0,
             "ticks": ""
            },
            "type": "contourcarpet"
           }
          ],
          "heatmap": [
           {
            "colorbar": {
             "outlinewidth": 0,
             "ticks": ""
            },
            "colorscale": [
             [
              0,
              "#0d0887"
             ],
             [
              0.1111111111111111,
              "#46039f"
             ],
             [
              0.2222222222222222,
              "#7201a8"
             ],
             [
              0.3333333333333333,
              "#9c179e"
             ],
             [
              0.4444444444444444,
              "#bd3786"
             ],
             [
              0.5555555555555556,
              "#d8576b"
             ],
             [
              0.6666666666666666,
              "#ed7953"
             ],
             [
              0.7777777777777778,
              "#fb9f3a"
             ],
             [
              0.8888888888888888,
              "#fdca26"
             ],
             [
              1,
              "#f0f921"
             ]
            ],
            "type": "heatmap"
           }
          ],
          "heatmapgl": [
           {
            "colorbar": {
             "outlinewidth": 0,
             "ticks": ""
            },
            "colorscale": [
             [
              0,
              "#0d0887"
             ],
             [
              0.1111111111111111,
              "#46039f"
             ],
             [
              0.2222222222222222,
              "#7201a8"
             ],
             [
              0.3333333333333333,
              "#9c179e"
             ],
             [
              0.4444444444444444,
              "#bd3786"
             ],
             [
              0.5555555555555556,
              "#d8576b"
             ],
             [
              0.6666666666666666,
              "#ed7953"
             ],
             [
              0.7777777777777778,
              "#fb9f3a"
             ],
             [
              0.8888888888888888,
              "#fdca26"
             ],
             [
              1,
              "#f0f921"
             ]
            ],
            "type": "heatmapgl"
           }
          ],
          "histogram": [
           {
            "marker": {
             "pattern": {
              "fillmode": "overlay",
              "size": 10,
              "solidity": 0.2
             }
            },
            "type": "histogram"
           }
          ],
          "histogram2d": [
           {
            "colorbar": {
             "outlinewidth": 0,
             "ticks": ""
            },
            "colorscale": [
             [
              0,
              "#0d0887"
             ],
             [
              0.1111111111111111,
              "#46039f"
             ],
             [
              0.2222222222222222,
              "#7201a8"
             ],
             [
              0.3333333333333333,
              "#9c179e"
             ],
             [
              0.4444444444444444,
              "#bd3786"
             ],
             [
              0.5555555555555556,
              "#d8576b"
             ],
             [
              0.6666666666666666,
              "#ed7953"
             ],
             [
              0.7777777777777778,
              "#fb9f3a"
             ],
             [
              0.8888888888888888,
              "#fdca26"
             ],
             [
              1,
              "#f0f921"
             ]
            ],
            "type": "histogram2d"
           }
          ],
          "histogram2dcontour": [
           {
            "colorbar": {
             "outlinewidth": 0,
             "ticks": ""
            },
            "colorscale": [
             [
              0,
              "#0d0887"
             ],
             [
              0.1111111111111111,
              "#46039f"
             ],
             [
              0.2222222222222222,
              "#7201a8"
             ],
             [
              0.3333333333333333,
              "#9c179e"
             ],
             [
              0.4444444444444444,
              "#bd3786"
             ],
             [
              0.5555555555555556,
              "#d8576b"
             ],
             [
              0.6666666666666666,
              "#ed7953"
             ],
             [
              0.7777777777777778,
              "#fb9f3a"
             ],
             [
              0.8888888888888888,
              "#fdca26"
             ],
             [
              1,
              "#f0f921"
             ]
            ],
            "type": "histogram2dcontour"
           }
          ],
          "mesh3d": [
           {
            "colorbar": {
             "outlinewidth": 0,
             "ticks": ""
            },
            "type": "mesh3d"
           }
          ],
          "parcoords": [
           {
            "line": {
             "colorbar": {
              "outlinewidth": 0,
              "ticks": ""
             }
            },
            "type": "parcoords"
           }
          ],
          "pie": [
           {
            "automargin": true,
            "type": "pie"
           }
          ],
          "scatter": [
           {
            "fillpattern": {
             "fillmode": "overlay",
             "size": 10,
             "solidity": 0.2
            },
            "type": "scatter"
           }
          ],
          "scatter3d": [
           {
            "line": {
             "colorbar": {
              "outlinewidth": 0,
              "ticks": ""
             }
            },
            "marker": {
             "colorbar": {
              "outlinewidth": 0,
              "ticks": ""
             }
            },
            "type": "scatter3d"
           }
          ],
          "scattercarpet": [
           {
            "marker": {
             "colorbar": {
              "outlinewidth": 0,
              "ticks": ""
             }
            },
            "type": "scattercarpet"
           }
          ],
          "scattergeo": [
           {
            "marker": {
             "colorbar": {
              "outlinewidth": 0,
              "ticks": ""
             }
            },
            "type": "scattergeo"
           }
          ],
          "scattergl": [
           {
            "marker": {
             "colorbar": {
              "outlinewidth": 0,
              "ticks": ""
             }
            },
            "type": "scattergl"
           }
          ],
          "scattermapbox": [
           {
            "marker": {
             "colorbar": {
              "outlinewidth": 0,
              "ticks": ""
             }
            },
            "type": "scattermapbox"
           }
          ],
          "scatterpolar": [
           {
            "marker": {
             "colorbar": {
              "outlinewidth": 0,
              "ticks": ""
             }
            },
            "type": "scatterpolar"
           }
          ],
          "scatterpolargl": [
           {
            "marker": {
             "colorbar": {
              "outlinewidth": 0,
              "ticks": ""
             }
            },
            "type": "scatterpolargl"
           }
          ],
          "scatterternary": [
           {
            "marker": {
             "colorbar": {
              "outlinewidth": 0,
              "ticks": ""
             }
            },
            "type": "scatterternary"
           }
          ],
          "surface": [
           {
            "colorbar": {
             "outlinewidth": 0,
             "ticks": ""
            },
            "colorscale": [
             [
              0,
              "#0d0887"
             ],
             [
              0.1111111111111111,
              "#46039f"
             ],
             [
              0.2222222222222222,
              "#7201a8"
             ],
             [
              0.3333333333333333,
              "#9c179e"
             ],
             [
              0.4444444444444444,
              "#bd3786"
             ],
             [
              0.5555555555555556,
              "#d8576b"
             ],
             [
              0.6666666666666666,
              "#ed7953"
             ],
             [
              0.7777777777777778,
              "#fb9f3a"
             ],
             [
              0.8888888888888888,
              "#fdca26"
             ],
             [
              1,
              "#f0f921"
             ]
            ],
            "type": "surface"
           }
          ],
          "table": [
           {
            "cells": {
             "fill": {
              "color": "#EBF0F8"
             },
             "line": {
              "color": "white"
             }
            },
            "header": {
             "fill": {
              "color": "#C8D4E3"
             },
             "line": {
              "color": "white"
             }
            },
            "type": "table"
           }
          ]
         },
         "layout": {
          "annotationdefaults": {
           "arrowcolor": "#2a3f5f",
           "arrowhead": 0,
           "arrowwidth": 1
          },
          "autotypenumbers": "strict",
          "coloraxis": {
           "colorbar": {
            "outlinewidth": 0,
            "ticks": ""
           }
          },
          "colorscale": {
           "diverging": [
            [
             0,
             "#8e0152"
            ],
            [
             0.1,
             "#c51b7d"
            ],
            [
             0.2,
             "#de77ae"
            ],
            [
             0.3,
             "#f1b6da"
            ],
            [
             0.4,
             "#fde0ef"
            ],
            [
             0.5,
             "#f7f7f7"
            ],
            [
             0.6,
             "#e6f5d0"
            ],
            [
             0.7,
             "#b8e186"
            ],
            [
             0.8,
             "#7fbc41"
            ],
            [
             0.9,
             "#4d9221"
            ],
            [
             1,
             "#276419"
            ]
           ],
           "sequential": [
            [
             0,
             "#0d0887"
            ],
            [
             0.1111111111111111,
             "#46039f"
            ],
            [
             0.2222222222222222,
             "#7201a8"
            ],
            [
             0.3333333333333333,
             "#9c179e"
            ],
            [
             0.4444444444444444,
             "#bd3786"
            ],
            [
             0.5555555555555556,
             "#d8576b"
            ],
            [
             0.6666666666666666,
             "#ed7953"
            ],
            [
             0.7777777777777778,
             "#fb9f3a"
            ],
            [
             0.8888888888888888,
             "#fdca26"
            ],
            [
             1,
             "#f0f921"
            ]
           ],
           "sequentialminus": [
            [
             0,
             "#0d0887"
            ],
            [
             0.1111111111111111,
             "#46039f"
            ],
            [
             0.2222222222222222,
             "#7201a8"
            ],
            [
             0.3333333333333333,
             "#9c179e"
            ],
            [
             0.4444444444444444,
             "#bd3786"
            ],
            [
             0.5555555555555556,
             "#d8576b"
            ],
            [
             0.6666666666666666,
             "#ed7953"
            ],
            [
             0.7777777777777778,
             "#fb9f3a"
            ],
            [
             0.8888888888888888,
             "#fdca26"
            ],
            [
             1,
             "#f0f921"
            ]
           ]
          },
          "colorway": [
           "#636efa",
           "#EF553B",
           "#00cc96",
           "#ab63fa",
           "#FFA15A",
           "#19d3f3",
           "#FF6692",
           "#B6E880",
           "#FF97FF",
           "#FECB52"
          ],
          "font": {
           "color": "#2a3f5f"
          },
          "geo": {
           "bgcolor": "white",
           "lakecolor": "white",
           "landcolor": "#E5ECF6",
           "showlakes": true,
           "showland": true,
           "subunitcolor": "white"
          },
          "hoverlabel": {
           "align": "left"
          },
          "hovermode": "closest",
          "mapbox": {
           "style": "light"
          },
          "paper_bgcolor": "white",
          "plot_bgcolor": "#E5ECF6",
          "polar": {
           "angularaxis": {
            "gridcolor": "white",
            "linecolor": "white",
            "ticks": ""
           },
           "bgcolor": "#E5ECF6",
           "radialaxis": {
            "gridcolor": "white",
            "linecolor": "white",
            "ticks": ""
           }
          },
          "scene": {
           "xaxis": {
            "backgroundcolor": "#E5ECF6",
            "gridcolor": "white",
            "gridwidth": 2,
            "linecolor": "white",
            "showbackground": true,
            "ticks": "",
            "zerolinecolor": "white"
           },
           "yaxis": {
            "backgroundcolor": "#E5ECF6",
            "gridcolor": "white",
            "gridwidth": 2,
            "linecolor": "white",
            "showbackground": true,
            "ticks": "",
            "zerolinecolor": "white"
           },
           "zaxis": {
            "backgroundcolor": "#E5ECF6",
            "gridcolor": "white",
            "gridwidth": 2,
            "linecolor": "white",
            "showbackground": true,
            "ticks": "",
            "zerolinecolor": "white"
           }
          },
          "shapedefaults": {
           "line": {
            "color": "#2a3f5f"
           }
          },
          "ternary": {
           "aaxis": {
            "gridcolor": "white",
            "linecolor": "white",
            "ticks": ""
           },
           "baxis": {
            "gridcolor": "white",
            "linecolor": "white",
            "ticks": ""
           },
           "bgcolor": "#E5ECF6",
           "caxis": {
            "gridcolor": "white",
            "linecolor": "white",
            "ticks": ""
           }
          },
          "title": {
           "x": 0.05
          },
          "xaxis": {
           "automargin": true,
           "gridcolor": "white",
           "linecolor": "white",
           "ticks": "",
           "title": {
            "standoff": 15
           },
           "zerolinecolor": "white",
           "zerolinewidth": 2
          },
          "yaxis": {
           "automargin": true,
           "gridcolor": "white",
           "linecolor": "white",
           "ticks": "",
           "title": {
            "standoff": 15
           },
           "zerolinecolor": "white",
           "zerolinewidth": 2
          }
         }
        }
       }
      },
      "text/html": [
       "<div>                            <div id=\"47676441-b78d-43f5-a8d1-39f256f5c0d1\" class=\"plotly-graph-div\" style=\"height:525px; width:100%;\"></div>            <script type=\"text/javascript\">                require([\"plotly\"], function(Plotly) {                    window.PLOTLYENV=window.PLOTLYENV || {};                                    if (document.getElementById(\"47676441-b78d-43f5-a8d1-39f256f5c0d1\")) {                    Plotly.newPlot(                        \"47676441-b78d-43f5-a8d1-39f256f5c0d1\",                        [{\"marker\":{\"color\":\"gray\",\"size\":1},\"showlegend\":false,\"x\":[-15,15],\"y\":[0,0],\"z\":[0,0],\"type\":\"scatter3d\"},{\"marker\":{\"color\":\"gray\",\"size\":1},\"showlegend\":false,\"x\":[0,0],\"y\":[-15,15],\"z\":[0,0],\"type\":\"scatter3d\"},{\"marker\":{\"color\":\"gray\",\"size\":1},\"showlegend\":false,\"x\":[0,0],\"y\":[0,0],\"z\":[-15,15],\"type\":\"scatter3d\"},{\"marker\":{\"color\":\"white\",\"size\":[4.652928775824256,1.5625697953954676,2.52901939223376,0.18647137475779202,2.0893736462161425,0.15330537521909005,0.7053098106038298,0.4855788319423087,2.3629973222959153,2.6800636404293217,2.1433405304434534,1.1242594855561345,4.457925127982805,0.9040237182998746,4.480640817113072,0.25490119515086646,0.6852321848892694,2.2132503602982663,0.6231571816937094,0.5541719940458663,1.0698925416888472,2.1901950403379176,0.9289478792895478,1.8024236362373316,1.2463143633874187,2.172743008903979,3.5694700939031603,1.2625009423527669,10.0,3.221911026067988,3.2804605347110876,0.13760090898058874,1.1932551562931981,2.503804212192903,2.6129315275208973,1.9511808217038142,4.351322804881783,2.058780872313284,3.1542413634153306,2.727003524631065,1.6935230451837755,2.754783564512763,1.1985608968051034,0.6962553939497065,1.3088918861170877,2.8543314667058923,1.5147330601973479,2.1014860586790327,1.4653354980438478,2.988981457333629,0.9082252454356797,1.2463143633874187,0.4310299317106143,3.504891433324414,2.503804212192903,1.6402302673555438,1.5915385398594242,1.5609446573630512,2.1901950403379176,1.6784692083111714,1.1543341412453632,3.840077198885592,4.27185334070202,2.1014860586790327,0.9357534492410368,1.8164504908713595,0.3698675850312552,1.8984364392061126,1.0324678434293904,1.6168528683740964,2.967676970120699,2.6322868404017603,1.2534217126919878,2.7959361371906786,0.9781885257342638,3.78683265049337,1.5859471701150512,1.236090118772045,0.6702526230311994,1.4293870043210228,1.087539018496012,2.1433405304434534,1.86471374757792,3.53014573835276,1.7232362424253158,5.063054193517729,2.9419079412900366,2.2473899130591017,1.0459008697967627,5.766171256949191,3.8860677866758313,1.752445716662207,1.4461571693199997,1.473970431347695,1.3621049699779304,1.4627350780744413,5.2597504331754505,3.800213726289909,0.7623767271576928,5.939628592534965,1.5931324696929152,2.0649356868587807,1.4240501331504758,1.97702540237205,0.8139020507550956,1.3741633356688159,1.86471374757792,1.844184163370458,2.3414169860445773,2.8454255745859203,2.3305518833997825,0.7088991966887745,1.5478821293284628,2.3359907516679455,1.1943181900508317,1.157627540637592,1.438237782420461,2.5539856380946837,1.0213457828384211,1.008844139330714,2.4108468929230558,0.6292369079245242,0.8913003105883126,1.37323952827992,0.9768903320292318,2.4108468929230558,0.7772135573351663,1.708444241375271,1.6168528683740964,2.6177837722341755,1.7740372380047187,1.8715068984820735,1.0012682313276446,1.0188577260784981,3.453828891267239,1.3452303408899018,1.6324749980594926,1.5527934546134445,6.35258450941336,0.8170144982528339,2.23606797749979,2.28101856311587,2.5737842726680693,2.69423147645687,2.0526076024274946,0.7523229676912276,1.781176249697741,0.9910769407760788,2.23606797749979,1.387946662911185,0.6003383140951095,0.8798361637980696,0.9794849988356955,3.4131724528498997,1.9511808217038142,1.4355882785756355,1.8303698552769598,0.2608070255352181,3.625907903108877,3.979643633766301,1.752445716662207,0.3963667480815861,0.2656282658801916,0.7071067811865476]},\"mode\":\"markers\",\"showlegend\":false,\"x\":[-0.320464879,-3.60638666,-4.95529413,20.689043,-5.32282019,10.0094309,12.9217253,51.2878761,-29.1986752,12.1907215,-4.75597143,-11.4883213,-15.5262709,15.2821617,8.88319683,-8.65411091,25.7294254,3.05206203,-18.9524765,11.5222301,1.70579588,-1.51392174,24.6724491,-14.7398634,6.6313858,-6.47812796,5.32311344,-5.7170558,-6.84721565,-5.62966585,-8.38360691,6.40795326,-9.53883076,-16.2746887,-12.9861765,-20.1730461,-15.3279047,7.27588081,5.58025074,-1.65797973,-1.48999429,3.33406997,-2.04612041,11.8171587,-1.82301104,0.0974151269,3.6299417,13.6403103,2.72536731,-2.60418344,2.02575231,1.20814705,-1.38180113,-0.704908431,-7.4897995,0.379773706,-3.5611217,-6.0057621,1.77306223,-0.820063293,10.0525074,-1.16920137,3.8121357,-2.99733901,-0.0991329849,-1.4857167,0.952553868,-1.09917986,-5.71353579,3.24807477,1.84997666,1.05617654,-1.62219822,2.06622028,1.03246295,-0.0362724401,0.319022387,-0.94269222,14.2981071,0.330534041,1.16957426,-0.453806847,1.44880819,3.55491948,1.38696504,0.489500523,1.43960345,1.09840214,2.38190961,-2.61110759,-0.319986254,0.496089458,3.11005807,-2.07019615,-3.86716771,5.94085121,-0.751812875,-1.19570768,-2.2130127,-2.89408469,-0.126143828,1.00036407,-0.406366199,-4.41678429,-0.233539626,3.23829341,1.31494641,0.975975215,-1.64490545,5.02202892,-1.38741183,0.677327752,-0.445365667,2.52799439,-0.210164398,-0.669371843,-4.40085983,0.684329331,1.14592493,0.99908042,3.29433298,1.44032383,-0.0189026333,-4.97762156,2.87963438,0.675781071,1.4277277,-4.76680136,-0.521768451,2.6091702,0.0487617925,0.247281611,-1.26754713,0.354051173,6.25012016,2.67383265,-2.69728756,2.83862996,-25.6052933,1.81831717,2.27424645,-2.50959849,4.96854687,3.97674942,-4.44978762,-30.6916332,-5.80936813,39.0558167,-5.22413778,-17.9380474,5.98495865,4.71428347,-3.25275779,3.90634704,4.09782362,20.8168774,13.1958809,28.5587482,9.9420042,7.79543591,-4.61936188,-24.3257008,-34.7819901,0.718195856],\"y\":[5.49439621,11.0983791,1.43324304,13.0009928,1.9543978,10.5111074,42.5805473,42.6293945,-21.7639446,11.8903694,4.92670488,1.45329189,-24.0677319,43.4632339,-9.3164072,4.40258121,71.1570511,-15.9677191,21.155077,-61.8645782,-8.05622578,2.82928324,17.8008175,-13.8117266,-5.03850746,-3.51072836,7.67805052,0.0794301555,-1.80412114,-0.207528472,9.54620361,2.75061297,6.06048918,-4.59717417,-6.77903175,4.95817661,11.1801147,1.9457339,-7.21353006,-4.81581831,4.2530961,-0.872630417,-1.56367648,-19.3629017,-4.14321518,0.857910991,-4.90504694,-5.82376337,2.16298676,0.293161958,-2.95058799,2.89022589,-0.709217608,5.70480299,24.8462849,3.12885666,1.4952575,-1.10911226,3.63022375,-1.91035545,-39.9185524,-1.31529462,-1.98491216,4.03483725,3.60220718,-0.997075915,-2.15349984,-2.38857031,-3.36977649,-0.360157579,-2.04234433,6.87449026,1.01602066,5.48457909,1.28382897,-7.67605114,3.05937123,-3.33684134,4.67034054,-0.0690771267,-2.28943634,0.760601759,-0.631242692,12.9987564,2.63040853,-0.847684741,1.47570896,0.133965775,-3.53410625,-2.16663861,-2.44952369,-0.464841336,4.69657612,-0.0416746773,1.079162,-4.80890274,-1.46726716,-0.200634167,1.11632419,2.58955669,-1.53112209,0.078272894,-0.047530327,-1.63028371,-0.0468807109,-3.32464862,-2.24912786,0.0434892364,-2.78676248,-2.73295283,0.0751226619,1.48943281,2.12951231,1.04380453,-2.06441617,3.35223556,-2.11027622,2.40612483,-5.39997673,1.01057279,2.70715809,-2.97699308,1.67131424,5.85408783,1.66707909,1.93925083,1.13960326,8.86999035,-0.200922325,1.23065293,-1.10229373,0.756498754,-0.942975998,0.026763808,-2.22862625,-2.15223336,1.27664888,3.10462427,-3.58793521,0.696713746,-0.972288907,-3.00424218,-1.79160166,3.70773244,-2.64678311,3.06034756,10.5376968,0.369769663,0.758830369,-0.116835877,-4.37837505,20.456789,6.04624224,3.33014965,3.22808671,1.77170217,-14.2006788,38.3543549,-0.0582403466,3.84420037,-1.40935194,3.59279513,-0.182330862,0.143071353],\"z\":[2.84445429,4.01782274,-5.60909414,-43.5363884,5.31582785,2.72072911,51.143486,85.6313782,1.40676355,-6.68057203,-3.04408455,4.27269697,45.3093643,-5.77592659,-2.72875309,-1.86808026,17.1243038,6.87772322,-77.6230621,99.3949966,-19.2276859,-1.26894069,-1.62492478,-16.7569008,0.827970386,-0.938337326,13.3444538,9.30823994,0.612953663,1.75281298,-3.15608501,-23.7209454,34.0041847,-9.91494083,-6.24347401,-0.747610748,-25.8260746,-0.384338856,19.8454132,0.132263303,-0.73362565,-2.34250855,1.0436691,-25.7520008,-0.904857576,-2.66219759,0.265022844,7.42136335,-2.29906774,1.37459147,0.815978408,2.11690807,-1.73978078,-6.70058632,-8.15270424,1.24963474,-1.28121245,4.75923586,2.6134541,0.520910442,20.6478825,-0.523584664,-3.33627367,-3.87808442,1.00812733,-1.22600412,-0.399971664,-1.96183169,1.11956537,0.216466278,0.549669802,-8.35864925,-1.23905909,-3.76287508,-1.12054276,-2.43325734,1.59829712,-0.430598766,2.24043941,0.0832193568,-0.14248088,0.523998618,1.20422769,-4.68738651,1.10726917,-0.0309414566,-0.59994185,0.053374406,0.24037464,-1.31833935,2.04420495,-0.492362559,1.75785041,-0.770487607,2.1086874,0.918981314,-0.159142315,0.589556813,0.159990534,-0.654224336,0.0585348606,1.13725138,0.338372052,0.16643627,0.00813759957,0.618719876,-0.392316222,-0.241785824,0.359538615,0.719800055,0.421997875,-0.775003731,0.314269572,-2.15965676,-0.114944719,-0.994736135,-0.927490473,-1.39870453,-0.120100006,-1.99789023,0.162276492,-0.0181862693,0.884335816,0.745987654,0.429089814,-0.795134902,0.870172501,9.74158001,1.14979196,1.12760973,0.0457043201,0.512613595,0.0690024793,0.757125914,0.00241390103,-1.26350021,-3.52671862,2.46832705,28.4580574,-0.127388582,-3.13433909,0.222302318,2.01479387,-0.276029229,-4.02589464,2.50740647,0.966789901,-5.52972269,-0.423200548,4.43945599,-3.71445775,-33.2058563,-0.293108255,-0.363263279,2.53404522,-4.12183237,-11.7789946,-43.2568626,3.74094868,8.76430416,7.14341211,-3.14571071,19.1914768,4.44122982],\"type\":\"scatter3d\"},{\"marker\":{\"size\":4},\"mode\":\"markers\",\"showlegend\":false,\"x\":[9.97732258],\"y\":[-9.29160023],\"z\":[9.24314308],\"type\":\"scatter3d\"},{\"marker\":{\"size\":4},\"mode\":\"lines\",\"showlegend\":false,\"x\":[10.6752071,10.4709005,10.2622318,10.0492601,9.83204365,9.61064243,9.38511848,9.15553474],\"y\":[-9.43157005,-9.39414883,-9.35281467,-9.30755806,-9.2583704,-9.20524216,-9.1481657,-9.08712959],\"z\":[8.75003529,8.90278244,9.05144215,9.19592571,9.33614159,9.47199821,9.60340214,9.7302599],\"type\":\"scatter3d\"},{\"cmax\":50,\"cmin\":0,\"colorbar\":{\"len\":0.5,\"thickness\":5,\"title\":{\"text\":\"g \"}},\"colorscale\":[[0.0,\"rgb(150,0,90)\"],[0.125,\"rgb(0,0,200)\"],[0.25,\"rgb(0,25,255)\"],[0.375,\"rgb(0,152,255)\"],[0.5,\"rgb(44,255,150)\"],[0.625,\"rgb(151,255,0)\"],[0.75,\"rgb(255,234,0)\"],[0.875,\"rgb(255,111,0)\"],[1.0,\"rgb(255,0,0)\"]],\"showscale\":true,\"sizemode\":\"absolute\",\"sizeref\":1,\"u\":[-0.2589642599769969,-0.25643462555494356,-0.25397968087482337,-0.2515670059064405,-0.24916660704346213,-0.24675098833119766,-0.2442950531511463,-0.24177594482633769],\"v\":[0.2733664822073427,0.2722333400749067,0.271286111327949,0.2705340904466637,0.26997994951032367,0.26962124789568664,0.26945186635294255,0.26946310658678474],\"w\":[-0.24785905843306094,-0.25348235590008433,-0.2590735679892992,-0.26466536269184043,-0.27028823164334137,-0.2759702086858613,-0.2817368086434299,-0.28761143837996467],\"x\":[10.6752071,10.4709005,10.2622318,10.0492601,9.83204365,9.61064243,9.38511848,9.15553474],\"y\":[-9.43157005,-9.39414883,-9.35281467,-9.30755806,-9.2583704,-9.20524216,-9.1481657,-9.08712959],\"z\":[8.75003529,8.90278244,9.05144215,9.19592571,9.33614159,9.47199821,9.60340214,9.7302599],\"type\":\"cone\"}],                        {\"template\":{\"data\":{\"histogram2dcontour\":[{\"type\":\"histogram2dcontour\",\"colorbar\":{\"outlinewidth\":0,\"ticks\":\"\"},\"colorscale\":[[0.0,\"#0d0887\"],[0.1111111111111111,\"#46039f\"],[0.2222222222222222,\"#7201a8\"],[0.3333333333333333,\"#9c179e\"],[0.4444444444444444,\"#bd3786\"],[0.5555555555555556,\"#d8576b\"],[0.6666666666666666,\"#ed7953\"],[0.7777777777777778,\"#fb9f3a\"],[0.8888888888888888,\"#fdca26\"],[1.0,\"#f0f921\"]]}],\"choropleth\":[{\"type\":\"choropleth\",\"colorbar\":{\"outlinewidth\":0,\"ticks\":\"\"}}],\"histogram2d\":[{\"type\":\"histogram2d\",\"colorbar\":{\"outlinewidth\":0,\"ticks\":\"\"},\"colorscale\":[[0.0,\"#0d0887\"],[0.1111111111111111,\"#46039f\"],[0.2222222222222222,\"#7201a8\"],[0.3333333333333333,\"#9c179e\"],[0.4444444444444444,\"#bd3786\"],[0.5555555555555556,\"#d8576b\"],[0.6666666666666666,\"#ed7953\"],[0.7777777777777778,\"#fb9f3a\"],[0.8888888888888888,\"#fdca26\"],[1.0,\"#f0f921\"]]}],\"heatmap\":[{\"type\":\"heatmap\",\"colorbar\":{\"outlinewidth\":0,\"ticks\":\"\"},\"colorscale\":[[0.0,\"#0d0887\"],[0.1111111111111111,\"#46039f\"],[0.2222222222222222,\"#7201a8\"],[0.3333333333333333,\"#9c179e\"],[0.4444444444444444,\"#bd3786\"],[0.5555555555555556,\"#d8576b\"],[0.6666666666666666,\"#ed7953\"],[0.7777777777777778,\"#fb9f3a\"],[0.8888888888888888,\"#fdca26\"],[1.0,\"#f0f921\"]]}],\"heatmapgl\":[{\"type\":\"heatmapgl\",\"colorbar\":{\"outlinewidth\":0,\"ticks\":\"\"},\"colorscale\":[[0.0,\"#0d0887\"],[0.1111111111111111,\"#46039f\"],[0.2222222222222222,\"#7201a8\"],[0.3333333333333333,\"#9c179e\"],[0.4444444444444444,\"#bd3786\"],[0.5555555555555556,\"#d8576b\"],[0.6666666666666666,\"#ed7953\"],[0.7777777777777778,\"#fb9f3a\"],[0.8888888888888888,\"#fdca26\"],[1.0,\"#f0f921\"]]}],\"contourcarpet\":[{\"type\":\"contourcarpet\",\"colorbar\":{\"outlinewidth\":0,\"ticks\":\"\"}}],\"contour\":[{\"type\":\"contour\",\"colorbar\":{\"outlinewidth\":0,\"ticks\":\"\"},\"colorscale\":[[0.0,\"#0d0887\"],[0.1111111111111111,\"#46039f\"],[0.2222222222222222,\"#7201a8\"],[0.3333333333333333,\"#9c179e\"],[0.4444444444444444,\"#bd3786\"],[0.5555555555555556,\"#d8576b\"],[0.6666666666666666,\"#ed7953\"],[0.7777777777777778,\"#fb9f3a\"],[0.8888888888888888,\"#fdca26\"],[1.0,\"#f0f921\"]]}],\"surface\":[{\"type\":\"surface\",\"colorbar\":{\"outlinewidth\":0,\"ticks\":\"\"},\"colorscale\":[[0.0,\"#0d0887\"],[0.1111111111111111,\"#46039f\"],[0.2222222222222222,\"#7201a8\"],[0.3333333333333333,\"#9c179e\"],[0.4444444444444444,\"#bd3786\"],[0.5555555555555556,\"#d8576b\"],[0.6666666666666666,\"#ed7953\"],[0.7777777777777778,\"#fb9f3a\"],[0.8888888888888888,\"#fdca26\"],[1.0,\"#f0f921\"]]}],\"mesh3d\":[{\"type\":\"mesh3d\",\"colorbar\":{\"outlinewidth\":0,\"ticks\":\"\"}}],\"scatter\":[{\"fillpattern\":{\"fillmode\":\"overlay\",\"size\":10,\"solidity\":0.2},\"type\":\"scatter\"}],\"parcoords\":[{\"type\":\"parcoords\",\"line\":{\"colorbar\":{\"outlinewidth\":0,\"ticks\":\"\"}}}],\"scatterpolargl\":[{\"type\":\"scatterpolargl\",\"marker\":{\"colorbar\":{\"outlinewidth\":0,\"ticks\":\"\"}}}],\"bar\":[{\"error_x\":{\"color\":\"#2a3f5f\"},\"error_y\":{\"color\":\"#2a3f5f\"},\"marker\":{\"line\":{\"color\":\"#E5ECF6\",\"width\":0.5},\"pattern\":{\"fillmode\":\"overlay\",\"size\":10,\"solidity\":0.2}},\"type\":\"bar\"}],\"scattergeo\":[{\"type\":\"scattergeo\",\"marker\":{\"colorbar\":{\"outlinewidth\":0,\"ticks\":\"\"}}}],\"scatterpolar\":[{\"type\":\"scatterpolar\",\"marker\":{\"colorbar\":{\"outlinewidth\":0,\"ticks\":\"\"}}}],\"histogram\":[{\"marker\":{\"pattern\":{\"fillmode\":\"overlay\",\"size\":10,\"solidity\":0.2}},\"type\":\"histogram\"}],\"scattergl\":[{\"type\":\"scattergl\",\"marker\":{\"colorbar\":{\"outlinewidth\":0,\"ticks\":\"\"}}}],\"scatter3d\":[{\"type\":\"scatter3d\",\"line\":{\"colorbar\":{\"outlinewidth\":0,\"ticks\":\"\"}},\"marker\":{\"colorbar\":{\"outlinewidth\":0,\"ticks\":\"\"}}}],\"scattermapbox\":[{\"type\":\"scattermapbox\",\"marker\":{\"colorbar\":{\"outlinewidth\":0,\"ticks\":\"\"}}}],\"scatterternary\":[{\"type\":\"scatterternary\",\"marker\":{\"colorbar\":{\"outlinewidth\":0,\"ticks\":\"\"}}}],\"scattercarpet\":[{\"type\":\"scattercarpet\",\"marker\":{\"colorbar\":{\"outlinewidth\":0,\"ticks\":\"\"}}}],\"carpet\":[{\"aaxis\":{\"endlinecolor\":\"#2a3f5f\",\"gridcolor\":\"white\",\"linecolor\":\"white\",\"minorgridcolor\":\"white\",\"startlinecolor\":\"#2a3f5f\"},\"baxis\":{\"endlinecolor\":\"#2a3f5f\",\"gridcolor\":\"white\",\"linecolor\":\"white\",\"minorgridcolor\":\"white\",\"startlinecolor\":\"#2a3f5f\"},\"type\":\"carpet\"}],\"table\":[{\"cells\":{\"fill\":{\"color\":\"#EBF0F8\"},\"line\":{\"color\":\"white\"}},\"header\":{\"fill\":{\"color\":\"#C8D4E3\"},\"line\":{\"color\":\"white\"}},\"type\":\"table\"}],\"barpolar\":[{\"marker\":{\"line\":{\"color\":\"#E5ECF6\",\"width\":0.5},\"pattern\":{\"fillmode\":\"overlay\",\"size\":10,\"solidity\":0.2}},\"type\":\"barpolar\"}],\"pie\":[{\"automargin\":true,\"type\":\"pie\"}]},\"layout\":{\"autotypenumbers\":\"strict\",\"colorway\":[\"#636efa\",\"#EF553B\",\"#00cc96\",\"#ab63fa\",\"#FFA15A\",\"#19d3f3\",\"#FF6692\",\"#B6E880\",\"#FF97FF\",\"#FECB52\"],\"font\":{\"color\":\"#2a3f5f\"},\"hovermode\":\"closest\",\"hoverlabel\":{\"align\":\"left\"},\"paper_bgcolor\":\"white\",\"plot_bgcolor\":\"#E5ECF6\",\"polar\":{\"bgcolor\":\"#E5ECF6\",\"angularaxis\":{\"gridcolor\":\"white\",\"linecolor\":\"white\",\"ticks\":\"\"},\"radialaxis\":{\"gridcolor\":\"white\",\"linecolor\":\"white\",\"ticks\":\"\"}},\"ternary\":{\"bgcolor\":\"#E5ECF6\",\"aaxis\":{\"gridcolor\":\"white\",\"linecolor\":\"white\",\"ticks\":\"\"},\"baxis\":{\"gridcolor\":\"white\",\"linecolor\":\"white\",\"ticks\":\"\"},\"caxis\":{\"gridcolor\":\"white\",\"linecolor\":\"white\",\"ticks\":\"\"}},\"coloraxis\":{\"colorbar\":{\"outlinewidth\":0,\"ticks\":\"\"}},\"colorscale\":{\"sequential\":[[0.0,\"#0d0887\"],[0.1111111111111111,\"#46039f\"],[0.2222222222222222,\"#7201a8\"],[0.3333333333333333,\"#9c179e\"],[0.4444444444444444,\"#bd3786\"],[0.5555555555555556,\"#d8576b\"],[0.6666666666666666,\"#ed7953\"],[0.7777777777777778,\"#fb9f3a\"],[0.8888888888888888,\"#fdca26\"],[1.0,\"#f0f921\"]],\"sequentialminus\":[[0.0,\"#0d0887\"],[0.1111111111111111,\"#46039f\"],[0.2222222222222222,\"#7201a8\"],[0.3333333333333333,\"#9c179e\"],[0.4444444444444444,\"#bd3786\"],[0.5555555555555556,\"#d8576b\"],[0.6666666666666666,\"#ed7953\"],[0.7777777777777778,\"#fb9f3a\"],[0.8888888888888888,\"#fdca26\"],[1.0,\"#f0f921\"]],\"diverging\":[[0,\"#8e0152\"],[0.1,\"#c51b7d\"],[0.2,\"#de77ae\"],[0.3,\"#f1b6da\"],[0.4,\"#fde0ef\"],[0.5,\"#f7f7f7\"],[0.6,\"#e6f5d0\"],[0.7,\"#b8e186\"],[0.8,\"#7fbc41\"],[0.9,\"#4d9221\"],[1,\"#276419\"]]},\"xaxis\":{\"gridcolor\":\"white\",\"linecolor\":\"white\",\"ticks\":\"\",\"title\":{\"standoff\":15},\"zerolinecolor\":\"white\",\"automargin\":true,\"zerolinewidth\":2},\"yaxis\":{\"gridcolor\":\"white\",\"linecolor\":\"white\",\"ticks\":\"\",\"title\":{\"standoff\":15},\"zerolinecolor\":\"white\",\"automargin\":true,\"zerolinewidth\":2},\"scene\":{\"xaxis\":{\"backgroundcolor\":\"#E5ECF6\",\"gridcolor\":\"white\",\"linecolor\":\"white\",\"showbackground\":true,\"ticks\":\"\",\"zerolinecolor\":\"white\",\"gridwidth\":2},\"yaxis\":{\"backgroundcolor\":\"#E5ECF6\",\"gridcolor\":\"white\",\"linecolor\":\"white\",\"showbackground\":true,\"ticks\":\"\",\"zerolinecolor\":\"white\",\"gridwidth\":2},\"zaxis\":{\"backgroundcolor\":\"#E5ECF6\",\"gridcolor\":\"white\",\"linecolor\":\"white\",\"showbackground\":true,\"ticks\":\"\",\"zerolinecolor\":\"white\",\"gridwidth\":2}},\"shapedefaults\":{\"line\":{\"color\":\"#2a3f5f\"}},\"annotationdefaults\":{\"arrowcolor\":\"#2a3f5f\",\"arrowhead\":0,\"arrowwidth\":1},\"geo\":{\"bgcolor\":\"white\",\"landcolor\":\"#E5ECF6\",\"subunitcolor\":\"white\",\"showland\":true,\"showlakes\":true,\"lakecolor\":\"white\"},\"title\":{\"x\":0.05},\"mapbox\":{\"style\":\"light\"}}},\"scene\":{\"camera\":{\"eye\":{\"x\":0.8849370871214128,\"y\":-1.2111508377725166,\"z\":0.75}},\"xaxis\":{\"title\":{\"text\":\"\"},\"range\":[-15,15],\"showbackground\":false,\"showgrid\":false,\"zeroline\":false,\"showticklabels\":false},\"yaxis\":{\"title\":{\"text\":\"\"},\"range\":[-15,15],\"showbackground\":false,\"showgrid\":false,\"zeroline\":false,\"showticklabels\":false},\"zaxis\":{\"title\":{\"text\":\"\"},\"range\":[-15,15],\"showbackground\":false,\"showgrid\":false,\"zeroline\":false,\"showticklabels\":false},\"aspectratio\":{\"x\":1,\"y\":1,\"z\":1},\"aspectmode\":\"manual\",\"annotations\":[{\"font\":{\"color\":\"white\",\"size\":10},\"showarrow\":false,\"text\":\"x\",\"x\":14.85,\"y\":0,\"z\":0},{\"font\":{\"color\":\"white\",\"size\":10},\"showarrow\":false,\"text\":\"y\",\"x\":0,\"y\":14.85,\"z\":0},{\"font\":{\"color\":\"white\",\"size\":10},\"showarrow\":false,\"text\":\"z\",\"x\":0,\"y\":0,\"z\":14.85}]},\"margin\":{\"l\":0,\"r\":0,\"t\":0,\"b\":0},\"plot_bgcolor\":\"black\",\"paper_bgcolor\":\"black\"},                        {\"responsive\": true}                    ).then(function(){\n",
       "                            \n",
       "var gd = document.getElementById('47676441-b78d-43f5-a8d1-39f256f5c0d1');\n",
       "var x = new MutationObserver(function (mutations, observer) {{\n",
       "        var display = window.getComputedStyle(gd).display;\n",
       "        if (!display || display === 'none') {{\n",
       "            console.log([gd, 'removed!']);\n",
       "            Plotly.purge(gd);\n",
       "            observer.disconnect();\n",
       "        }}\n",
       "}});\n",
       "\n",
       "// Listen for the removal of the full notebook cells\n",
       "var notebookContainer = gd.closest('#notebook-container');\n",
       "if (notebookContainer) {{\n",
       "    x.observe(notebookContainer, {childList: true});\n",
       "}}\n",
       "\n",
       "// Listen for the clearing of the current output cell\n",
       "var outputEl = gd.closest('.output');\n",
       "if (outputEl) {{\n",
       "    x.observe(outputEl, {childList: true});\n",
       "}}\n",
       "\n",
       "                        })                };                });            </script>        </div>"
      ]
     },
     "metadata": {},
     "output_type": "display_data"
    }
   ],
   "source": [
    "fig = go.Figure()\n",
    "\n",
    "fig.add_trace(xaxisline)\n",
    "fig.add_trace(yaxisline)\n",
    "fig.add_trace(zaxisline)\n",
    "fig.add_trace(perturber_trace)\n",
    "fig.add_trace(host_trace)\n",
    "fig.add_trace(stream_trace)\n",
    "fig.add_trace(cone) \n",
    "\n",
    "\n",
    "fig.update_layout(scene=scene,  \n",
    "    margin=dict(l=0, r=0, t=0, b=0),  # Reduce margins to make the plot area larger\n",
    "    scene_aspectmode='manual',  # Set aspect mode to manual\n",
    "    scene_aspectratio=dict(x=1, y=1, z=1),  # Adjust aspect ratio to make the plot area larger\n",
    "    plot_bgcolor=backgroundcolor,  # Plot area background color\n",
    "    paper_bgcolor=backgroundcolor,  # Entire figure background color\n",
    ")\n",
    "\n",
    "\n",
    "# fig.write_image(\"frame-\"+str(i).zfill(4)+\".png\")   # Save as PNG\n"
   ]
  },
  {
   "cell_type": "code",
   "execution_count": null,
   "metadata": {},
   "outputs": [],
   "source": [
    "\n"
   ]
  },
  {
   "cell_type": "markdown",
   "metadata": {},
   "source": [
    "$$ \\frac{km}{s} / \\frac{s kpc}{km} $$ \n",
    "$$ \\frac{km^2}{kpc s^2} $$"
   ]
  }
 ],
 "metadata": {
  "kernelspec": {
   "display_name": "base",
   "language": "python",
   "name": "python3"
  },
  "language_info": {
   "codemirror_mode": {
    "name": "ipython",
    "version": 3
   },
   "file_extension": ".py",
   "mimetype": "text/x-python",
   "name": "python",
   "nbconvert_exporter": "python",
   "pygments_lexer": "ipython3",
   "version": "3.11.5"
  }
 },
 "nbformat": 4,
 "nbformat_minor": 2
}
