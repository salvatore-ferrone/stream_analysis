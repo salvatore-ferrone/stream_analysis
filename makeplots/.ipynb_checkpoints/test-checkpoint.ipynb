{
 "cells": [
  {
   "cell_type": "code",
   "execution_count": 1,
   "metadata": {},
   "outputs": [],
   "source": [
    "import numpy as np \n",
    "import stream_analysis as sa\n",
    "import gcs\n",
    "from gcs import path_handler as ph \n",
    "import matplotlib.pyplot as plt\n",
    "import profile_detections \n",
    "\n",
    "import ipywidgets as widgets\n",
    "from ipywidgets import interact"
   ]
  },
  {
   "cell_type": "code",
   "execution_count": 2,
   "metadata": {},
   "outputs": [],
   "source": [
    "montecarlokey=\"monte-carlo-009\"\n",
    "dataparams = {\n",
    "    \"montecarlokey\":montecarlokey,\n",
    "    \"GCname\":\"Pal5\",\n",
    "    \"NP\":int(1e5),\n",
    "    \"MWpotential0\":\"pouliasis2017pii\",\n",
    "    \"MWpotential1\":\"pouliasis2017pii-GCNBody\",\n",
    "    \"internal_dynamics\":\"isotropic-plummer\"\n",
    "}\n",
    "## HYPER PARAMETERS\n",
    "\n",
    "hyperparams = {\n",
    "    \"xlims\":[-10,10],\n",
    "    \"ylims\":[-0.5,0.5],\n",
    "    \"noise_factor\":50,\n",
    "    \"sigma\":2,\n",
    "    \"box_length\":20,\n",
    "    \"do_cross_correlation\":False,\n",
    "    \"N_APPlY\":2}"
   ]
  },
  {
   "cell_type": "code",
   "execution_count": 3,
   "metadata": {},
   "outputs": [],
   "source": [
    "# extract the raw data\n",
    "tails,distributions,raw_profiles=profile_detections.extract_raw_data(dataparams,hyperparams)"
   ]
  },
  {
   "cell_type": "code",
   "execution_count": 4,
   "metadata": {},
   "outputs": [],
   "source": [
    "sigma,xlims,ylims,noise_factor,box_length,do_cross_correlation,N_APPlY = profile_detections.unpack_hyperparams(hyperparams)"
   ]
  },
  {
   "cell_type": "code",
   "execution_count": 5,
   "metadata": {},
   "outputs": [],
   "source": [
    "# unpack the data\n",
    "(X0,Y0,H0),(X1,Y1,H1)=distributions\n",
    "x0,c0,c1 = raw_profiles"
   ]
  },
  {
   "cell_type": "code",
   "execution_count": 6,
   "metadata": {},
   "outputs": [],
   "source": [
    "properties=profile_detections.assemle_plot_properties(dataparams,hyperparams)"
   ]
  },
  {
   "cell_type": "code",
   "execution_count": 7,
   "metadata": {},
   "outputs": [],
   "source": [
    "# clean up the profiles\n",
    "profiles                =   sa.density_profile_gap_detections.clean_up_stream_profiles(x0,c0,c1,box_length,N_APPlY,do_cross_correlation)\n",
    "CENTERS,CONTROL,COMPARE =   profiles\n",
    "# DETECTION CANDIDATES \n",
    "noise_filtered_profiles,noiselevel,candidates=sa.density_profile_gap_detections.log_difference_detection(profiles,noise_factor,sigma)\n",
    "centers,compare,control = noise_filtered_profiles"
   ]
  },
  {
   "cell_type": "code",
   "execution_count": null,
   "metadata": {},
   "outputs": [],
   "source": []
  },
  {
   "cell_type": "code",
   "execution_count": 8,
   "metadata": {},
   "outputs": [
    {
     "data": {
      "application/vnd.jupyter.widget-view+json": {
       "model_id": "2a96ff2e630044beaf9cf7b8f8c150ee",
       "version_major": 2,
       "version_minor": 0
      },
      "text/plain": [
       "interactive(children=(FloatSlider(value=1.0, description='Sigma Threshold', max=4.0, min=1.0), Output()), _dom…"
      ]
     },
     "metadata": {},
     "output_type": "display_data"
    }
   ],
   "source": [
    "\n",
    "def update_plot(sigma):\n",
    "    fig,ax0,ax1,ax2,cbar_ax = sa.plotters.tailcoordinates.gspec_double_xy_profile()\n",
    "    profile_detections.append2Dmaps([fig,ax0,ax1,cbar_ax],distributions,properties['append2Dmaps'])\n",
    "    noise_filtered_profiles,noiselevel,candidates=sa.density_profile_gap_detections.log_difference_detection(profiles,noise_factor,sigma)\n",
    "    centers,compare,control             =  noise_filtered_profiles\n",
    "    data_add_gap_candidates_to_profiles =  (centers,compare,control,candidates)\n",
    "    data_append1Dprofiles               =  (CENTERS,CONTROL,COMPARE,noiselevel)\n",
    "    candidate_indexes                   = np.where(candidates)[0]\n",
    "    profile_detections.append1Dprofiles((ax2),data_append1Dprofiles,properties['append1Dprofiles'])\n",
    "    profile_detections.add_gap_candidates_to_profiles((ax2),(centers,compare,control,candidate_indexes),properties['add_gap_candidates_to_profiles'])\n",
    "    profile_detections.add_gap_candidates_to_2D_plot((ax1),(centers,candidate_indexes),properties['add_gap_candidates_to_2D_plot'])\n",
    "    ax2.legend()\n",
    "\n",
    "sigma_slider = widgets.FloatSlider(value=1, min=1, max=4, step=0.1, description='Sigma Threshold')\n",
    "interactive_plot = widgets.interactive(update_plot, sigma=sigma_slider,)\n",
    "display(interactive_plot)\n",
    "plt.show()"
   ]
  },
  {
   "cell_type": "code",
   "execution_count": null,
   "metadata": {},
   "outputs": [],
   "source": [
    "# Initialize the figure and subplots outside the function\n",
    "fig, ax0, ax1, ax2, cbar_ax = sa.plotters.tailcoordinates.gspec_double_xy_profile()\n",
    "profile_detections.append2Dmaps([fig, ax0, ax1, cbar_ax], distributions, properties['append2Dmaps'])\n",
    "\n",
    "# Create a function to update only the necessary parts of the plot\n",
    "def update_plot(sigma, fig, ax0, ax1, ax2):\n",
    "    noise_filtered_profiles, noiselevel, candidates = sa.density_profile_gap_detections.log_difference_detection(profiles, noise_factor, sigma)\n",
    "    centers, compare, control = noise_filtered_profiles\n",
    "    data_add_gap_candidates_to_profiles = (centers, compare, control, candidates)\n",
    "    data_append1Dprofiles = (CENTERS, CONTROL, COMPARE, noiselevel)\n",
    "    candidate_indexes = np.where(candidates)[0]\n",
    "    \n",
    "    # Clear previous plots in ax2\n",
    "    ax2.clear()\n",
    "    \n",
    "    # Update the 1D profiles and gap candidatesa\n",
    "    profile_detections.append1Dprofiles(ax2, data_append1Dprofiles, properties['append1Dprofiles'])\n",
    "    profile_detections.add_gap_candidates_to_profiles(ax2, (centers, compare, control, candidate_indexes), properties['add_gap_candidates_to_profiles'])\n",
    "    profile_detections.add_gap_candidates_to_2D_plot(ax1, (centers, candidate_indexes), properties['add_gap_candidates_to_2D_plot'])\n",
    "    \n",
    "    ax2.legend()\n",
    "    fig.canvas.draw_idle()\n",
    "\n",
    "# Create interactive slider\n",
    "sigma_slider = widgets.FloatSlider(value=1, min=1, max=4, step=0.1, description='Sigma Threshold')\n",
    "\n",
    "# Link the slider to the update_plot function and pass the figure and axes\n",
    "    # Update the 1D profiles and gap candidates\n",
    "interactive_plot = widgets.interactive(update_plot, sigma=sigma_slider, fig=widgets.fixed(fig), ax0=widgets.fixed(ax0), ax1=widgets.fixed(ax1), ax2=widgets.fixed(ax2))\n",
    "\n",
    "# Display the interactive plot and the slider\n",
    "display(interactive_plot)\n",
    "plt.show()"
   ]
  },
  {
   "cell_type": "code",
   "execution_count": null,
   "metadata": {},
   "outputs": [],
   "source": [
    "%matplotlib notebook\n",
    "from ipywidgets import *\n",
    "import numpy as np\n",
    "import matplotlib.pyplot as plt\n",
    "\n",
    "x = np.linspace(0, 2 * np.pi)\n",
    "fig = plt.figure()\n",
    "ax = fig.add_subplot(1, 1, 1)\n",
    "line, = ax.plot(x, np.sin(x))\n",
    "\n",
    "def update(w = 1.0):\n",
    "    line.set_ydata(np.sin(w * x))\n",
    "    fig.canvas.draw()\n",
    "\n",
    "interact(update)"
   ]
  },
  {
   "cell_type": "code",
   "execution_count": null,
   "metadata": {},
   "outputs": [],
   "source": []
  }
 ],
 "metadata": {
  "kernelspec": {
   "display_name": "Python (tstrippy)",
   "language": "python",
   "name": "tstrippy"
  },
  "language_info": {
   "codemirror_mode": {
    "name": "ipython",
    "version": 3
   },
   "file_extension": ".py",
   "mimetype": "text/x-python",
   "name": "python",
   "nbconvert_exporter": "python",
   "pygments_lexer": "ipython3",
   "version": "3.11.9"
  }
 },
 "nbformat": 4,
 "nbformat_minor": 4
}
