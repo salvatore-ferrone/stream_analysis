{
 "cells": [
  {
   "cell_type": "code",
   "execution_count": null,
   "id": "c7773a8f",
   "metadata": {},
   "outputs": [],
   "source": [
    "import stream_analysis as sa \n",
    "import gcs \n",
    "import numpy as np\n",
    "import matplotlib.pyplot as plt\n",
    "import matplotlib as mpl\n",
    "import os \n",
    "import h5py\n",
    "import tstrippy\n",
    "from scipy import signal"
   ]
  },
  {
   "cell_type": "code",
   "execution_count": null,
   "id": "4615b806",
   "metadata": {},
   "outputs": [],
   "source": [
    "# Configure Matplotlib to use LaTeX for text rendering\n",
    "plt.rcParams.update({\n",
    "    \"text.usetex\": False,\n",
    "    \"font.family\": \"serif\",  # Use 'serif' or specify the exact font family\n",
    "    \"font.serif\": [\"Computer Modern Roman\", \"DejaVu Serif\", \"serif\"],\n",
    "    \"axes.labelsize\": 12,  # Font size for axis labels\n",
    "    \"font.size\": 12,  # General font size\n",
    "    \"legend.fontsize\": 12,  # Font size for legend\n",
    "    \"xtick.labelsize\": 12,  # Font size for x-axis tick labels\n",
    "    \"ytick.labelsize\": 12,  # Font size for y-axis tick labels\n",
    "})"
   ]
  },
  {
   "cell_type": "code",
   "execution_count": null,
   "id": "03ec8f06",
   "metadata": {},
   "outputs": [],
   "source": [
    "def grab_valid_fnames(GCname, montecarlokey, NPs, MASS_INDEX, RADIUS_INDEX, potential_env, internal_dynamics):\n",
    "    valid_NPs=[]\n",
    "    fnames=[]\n",
    "    for i in range(len(NPs)):\n",
    "        fname = gcs.path_handler.StreamMassRadius(\n",
    "            GCname=GCname,\n",
    "            NP=NPs[i],\n",
    "            potential_env=potential_env,\n",
    "            internal_dynamics=internal_dynamics,\n",
    "            montecarlokey=montecarlokey,\n",
    "            Mass=MASS_INDEX,\n",
    "            radius=RADIUS_INDEX,)\n",
    "        if os.path.exists(fname):\n",
    "            fnames.append(fname)\n",
    "            valid_NPs.append(NPs[i])\n",
    "        else:\n",
    "            print(\"file does not exist\",fname)\n",
    "    valid_NPs=np.array(valid_NPs)\n",
    "    return fnames,valid_NPs"
   ]
  },
  {
   "cell_type": "code",
   "execution_count": null,
   "id": "5b01ba75",
   "metadata": {},
   "outputs": [],
   "source": [
    "def stack_phase_space(fnames,NPs):\n",
    "    \"\"\" assumes all fnames are valid files of the same format \n",
    "    \"\"\"\n",
    "    # set the indicies\n",
    "    cummulative_NPs = np.cumsum(NPs)\n",
    "    cummulative_NPs = np.insert(cummulative_NPs, 0, 0)\n",
    "    # initiate the output arrays \n",
    "    phase_space = np.zeros((6,NPs.sum()))\n",
    "    tesc=np.zeros(NPs.sum())\n",
    "    for i in range(len(fnames)):\n",
    "        with h5py.File(fnames[i],\"r\") as f:\n",
    "            phase_space[:,cummulative_NPs[i]:cummulative_NPs[i+1]] = f[\"phase_space\"][:]\n",
    "            tesc[cummulative_NPs[i]:cummulative_NPs[i+1]] = f['tesc'][:]\n",
    "    return phase_space, tesc"
   ]
  },
  {
   "cell_type": "code",
   "execution_count": null,
   "id": "8a3598f2",
   "metadata": {},
   "outputs": [],
   "source": [
    "def prepare_fig(figsize=(8.27-2, 2)):\n",
    "    fig=plt.figure(figsize=figsize)\n",
    "    gs = mpl.gridspec.GridSpec(2, 2, figure=fig,width_ratios=[1, 1/50], height_ratios=[1, 1],hspace=0.50, wspace=0)\n",
    "    cax = fig.add_subplot(gs[:, 1])\n",
    "    axes = []\n",
    "    for i in range(2):\n",
    "        axes.append(fig.add_subplot(gs[i, 0]))\n",
    "    return fig, axes, cax"
   ]
  },
  {
   "cell_type": "code",
   "execution_count": null,
   "id": "f0f6135f",
   "metadata": {},
   "outputs": [],
   "source": [
    "# make the histogram on the same grid by binning subsets\n",
    "def create_histograms(particles, groups, limits=[-20,20]):\n",
    "    \"\"\"\n",
    "    Create histograms for each group of particles in the specified limits.\n",
    "    Parameters:\n",
    "    particles : array_like\n",
    "        The data to be binned.\n",
    "    groups : list of array_like BOOLEANS\n",
    "        The groups of particles to be binned.\n",
    "    limits : list\n",
    "        The limits for the histogram bins.\n",
    "    Returns:\n",
    "    counts : list of array_like\n",
    "        The counts for each group.\n",
    "    bin_centers : array_like\n",
    "        The centers of the bins.\n",
    "    \"\"\"\n",
    "    nbins = int(np.ceil(np.sqrt(particles.shape[0])))\n",
    "    bmin= limits[0]\n",
    "    bmax= limits[1]\n",
    "    bin_edges = np.linspace(bmin, bmax, nbins+1)\n",
    "    counts = []\n",
    "    for i in range(len(groups)):\n",
    "        group = groups[i]\n",
    "        hist, _ = np.histogram(particles[group], bins=bin_edges)\n",
    "        counts.append(hist)\n",
    "    return counts, bin_edges\n"
   ]
  },
  {
   "cell_type": "code",
   "execution_count": null,
   "id": "68c833db",
   "metadata": {},
   "outputs": [],
   "source": [
    "# plot params \n",
    "xlims=[-13,13]\n",
    "ylims=[-0.5,0.5]\n",
    "cmap = mpl.cm.rainbow\n",
    "vmax=1e2\n",
    "vmin=1"
   ]
  },
  {
   "cell_type": "code",
   "execution_count": null,
   "id": "b82e2460",
   "metadata": {},
   "outputs": [],
   "source": [
    "### DATA PARAMS \n",
    "\n",
    "GCname = \"Pal5\"\n",
    "NP = 9100\n",
    "potential_env = \"pouliasis2017pii-GCNBody\"\n",
    "internal_dynamics = \"isotropic-plummer_mass_radius_grid\"\n",
    "montecarlokey = \"monte-carlo-009\"\n",
    "PerturberName = \"NGC7078\"\n",
    "radiusIndex = 4\n",
    "massIndex = 0\n",
    "massIndex2 = 2\n",
    "\n",
    "# get the particle counts per file\n",
    "start = 9100\n",
    "stop = 10000\n",
    "step = 100\n",
    "append = 4500\n",
    "NPs = np.arange(start, stop+step, step)\n",
    "NPs = np.append(NPs, append)"
   ]
  },
  {
   "cell_type": "code",
   "execution_count": null,
   "id": "1c119518",
   "metadata": {},
   "outputs": [],
   "source": [
    "# get the host orbit \n",
    "pathorbit=gcs.path_handler.GC_orbits(potential_env,GCname)\n",
    "tGC,xGC,yGC,zGC,vxGC,vyGC,vzGC=gcs.extractors.GCOrbits.extract_whole_orbit(pathorbit,montecarlokey)\n",
    "# now chop the orbit down \n",
    "tGC,xGC,yGC,zGC,vxGC,vyGC,vzGC=sa.tailCoordinates.filter_orbit_by_dynamical_time(tGC,xGC,yGC,zGC,vxGC,vyGC,vzGC,time_of_interest=0,nDynTimes=2.5)"
   ]
  },
  {
   "cell_type": "code",
   "execution_count": null,
   "id": "2a9c2383",
   "metadata": {},
   "outputs": [],
   "source": [
    "# extract all the phase space data\n",
    "fnames,validNPS=grab_valid_fnames(GCname, montecarlokey, NPs, massIndex, radiusIndex, potential_env, internal_dynamics)\n",
    "phase_space0, tesc0=stack_phase_space(fnames,validNPS)\n",
    "with h5py.File(fnames[0],\"r\") as myfile:\n",
    "    # get the mass of the stars\n",
    "    Mass0=myfile.attrs['MASS']"
   ]
  },
  {
   "cell_type": "code",
   "execution_count": null,
   "id": "f63399d2",
   "metadata": {},
   "outputs": [],
   "source": [
    "\n",
    "# now put it into tail coordinates\n",
    "xp,yp,zp,vxp,vyp,vzp,_=sa.tailCoordinates.transform_from_galactico_centric_to_tail_coordinates(\n",
    "    phase_space0[0],phase_space0[1],phase_space0[2],\n",
    "    phase_space0[3],phase_space0[4],phase_space0[5],\n",
    "    tGC,xGC,yGC,zGC,vxGC,vyGC,vzGC,\n",
    "    t0=0,\n",
    ")\n",
    "X0,Y0,H0=sa.plotters.binned_density.short_cut(validNPS.sum(), xp, yp,xlims=xlims,ylims=ylims)\n",
    "X0,Y0,H0=sa.plotters.binned_density.order_by_density(X0,Y0,H0)"
   ]
  },
  {
   "cell_type": "code",
   "execution_count": null,
   "id": "68406c96",
   "metadata": {},
   "outputs": [],
   "source": [
    "# get the second mass index\n",
    "fnames,validNPS=grab_valid_fnames(GCname, montecarlokey, NPs, massIndex2, radiusIndex, potential_env, internal_dynamics)\n",
    "phase_space1, tesc1=stack_phase_space(fnames,validNPS)\n",
    "# get the mass\n",
    "with h5py.File(fnames[0],\"r\") as myfile:\n",
    "    Mass1=myfile.attrs['MASS']"
   ]
  },
  {
   "cell_type": "code",
   "execution_count": null,
   "id": "79b30c51",
   "metadata": {},
   "outputs": [],
   "source": [
    "# now put it into tail coordinates\n",
    "xp,yp,zp,vxp,vyp,vzp,_=sa.tailCoordinates.transform_from_galactico_centric_to_tail_coordinates(\n",
    "    phase_space1[0],phase_space1[1],phase_space1[2],\n",
    "    phase_space1[3],phase_space1[4],phase_space1[5],\n",
    "    tGC,xGC,yGC,zGC,vxGC,vyGC,vzGC,\n",
    "    t0=0,\n",
    ")\n",
    "X1,Y1,H1=sa.plotters.binned_density.short_cut(validNPS.sum(), xp, yp,xlims=xlims,ylims=ylims)\n",
    "X1,Y1,H1=sa.plotters.binned_density.order_by_density(X1,Y1,H1)"
   ]
  },
  {
   "cell_type": "code",
   "execution_count": null,
   "id": "32630326",
   "metadata": {},
   "outputs": [],
   "source": [
    "norm = mpl.colors.LogNorm(vmin=vmin, vmax=vmax)"
   ]
  },
  {
   "cell_type": "code",
   "execution_count": null,
   "id": "95bb77ac",
   "metadata": {},
   "outputs": [],
   "source": [
    "AXES0={\n",
    "    \"xlim\":xlims,\n",
    "    \"ylim\":ylims,\n",
    "    \"xticks\":[],\n",
    "    \"yticks\":[-0.5,0,0.5],\n",
    "    \"title\":f\"{Mass0:.0f} M$_\\odot$\",\n",
    "}\n",
    "AXES1={\n",
    "    \"xlim\":xlims,\n",
    "    \"ylim\":ylims,\n",
    "    \"xlabel\":\"$x_{tail}$ [kpc]\",\n",
    "    \"yticks\":[-0.5,0,0.5],\n",
    "    \"xticks\":np.arange(-12,12+3,3),\n",
    "    \"title\":f\"{Mass1:.0f} M$_\\odot$\",\n",
    "}\n",
    "SCAT = {\n",
    "    \"s\":0.1,\n",
    "    \"cmap\":cmap,\n",
    "    \"alpha\":0.9,\n",
    "    \"norm\":norm,\n",
    "}\n",
    "\n",
    "FIG={\n",
    "    \"supylabel\": \"$y_{tail}$ [kpc]\",\n",
    "}"
   ]
  },
  {
   "cell_type": "code",
   "execution_count": null,
   "id": "e9ffa5f9",
   "metadata": {},
   "outputs": [],
   "source": [
    "fig,axes,cax=prepare_fig()\n",
    "axes[0].scatter(X0,Y0,c=H0,**SCAT)\n",
    "axes[0].set(**AXES0)\n",
    "axes[1].scatter(X1,Y1,c=H1,**SCAT)\n",
    "axes[1].set(**AXES1);\n",
    "sm = mpl.cm.ScalarMappable(cmap=cmap, norm=norm)\n",
    "sm.set_array([])\n",
    "cbar = fig.colorbar(sm, cax=cax)\n",
    "cbar.set_label(\"N [counts]\", rotation=90, labelpad=10)\n",
    "fig.supylabel(FIG[\"supylabel\"])\n",
    "fig.savefig(\"../paper/gap_no_more.png\", dpi=300, bbox_inches='tight')"
   ]
  },
  {
   "cell_type": "code",
   "execution_count": null,
   "id": "38415acb",
   "metadata": {},
   "outputs": [],
   "source": [
    "# do the weighed histogram\n",
    "Nbins = int(np.sqrt(NPs.sum()))\n",
    "edges = np.linspace(xlims[0], xlims[1], Nbins)\n",
    "centers=0.5*(edges[1:]+edges[:-1])\n",
    "counts0,_=np.histogram(X0,weights=H0,bins=edges)\n",
    "counts1,_=np.histogram(X1,weights=H1,bins=edges)"
   ]
  },
  {
   "cell_type": "code",
   "execution_count": null,
   "id": "575e5f7b",
   "metadata": {},
   "outputs": [],
   "source": [
    "fig,axis=plt.subplots(figsize=(8.25-2, 2))\n",
    "axis.plot(centers,counts0, label=\"mass index 0\", color=\"C0\")\n",
    "axis.plot(centers,counts1, label=\"mass index 2\", color=\"C1\")\n",
    "axis.set_yscale(\"log\")\n",
    "axis.set_xlabel(\"$x_{tail}$ [kpc]\")\n",
    "axis.set_ylabel(\"N [counts]\")\n",
    "axis.set_xlim(xlims)"
   ]
  },
  {
   "cell_type": "markdown",
   "id": "3d8d1b5a",
   "metadata": {},
   "source": [
    "# Get the groups of pericenter passages"
   ]
  },
  {
   "cell_type": "code",
   "execution_count": null,
   "id": "53b46a63",
   "metadata": {},
   "outputs": [],
   "source": [
    "mycmap = mpl.cm.rainbow"
   ]
  },
  {
   "cell_type": "code",
   "execution_count": null,
   "id": "995aa7cc",
   "metadata": {},
   "outputs": [],
   "source": [
    "# load the whole orbit \n",
    "pathorbit=gcs.path_handler.GC_orbits(potential_env,GCname)\n",
    "torbit,xorbit,yorbit,zorbit,vxorbit,vyorbit,vzorbit=gcs.extractors.GCOrbits.extract_whole_orbit(pathorbit,montecarlokey)"
   ]
  },
  {
   "cell_type": "code",
   "execution_count": null,
   "id": "480df0b7",
   "metadata": {},
   "outputs": [],
   "source": [
    "# Locate the pericenter passages\n",
    "rorbit = np.sqrt(xorbit**2 + yorbit**2 + zorbit**2)\n",
    "minima_indices, _ = signal.find_peaks(-rorbit)"
   ]
  },
  {
   "cell_type": "code",
   "execution_count": null,
   "id": "43f7e02b",
   "metadata": {},
   "outputs": [],
   "source": [
    "# Compute the characteristic time of the shocks\n",
    "pouliasis2017pii = tstrippy.Parsers.pouliasis2017pii()\n",
    "ax, ay, az, _ = tstrippy.potentials.pouliasis2017pii(pouliasis2017pii, xorbit[minima_indices], yorbit[minima_indices], zorbit[minima_indices])\n",
    "accel = np.sqrt(ax**2 + ay**2 + az**2)\n",
    "chartimes = np.sqrt(rorbit[minima_indices] / accel)"
   ]
  },
  {
   "cell_type": "code",
   "execution_count": null,
   "id": "b97193ab",
   "metadata": {},
   "outputs": [],
   "source": [
    "# Find the upper and lower bounds of the time of interest\n",
    "pericenter_passages_indices = []\n",
    "for i in range(len(minima_indices) - 1):\n",
    "    downTime = torbit[minima_indices[i]] - chartimes[i]\n",
    "    upTime = torbit[minima_indices[i]] + chartimes[i]\n",
    "    minDex = np.argmin(np.abs(torbit - downTime))\n",
    "    upDex = np.argmin(np.abs(torbit - upTime))\n",
    "    pericenter_passages_indices.append((minDex, upDex))\n"
   ]
  },
  {
   "cell_type": "code",
   "execution_count": null,
   "id": "e22b4728",
   "metadata": {},
   "outputs": [],
   "source": [
    "# Obtain the groups of escaped stars that are not from the same pericenter passage\n",
    "groups = []\n",
    "cond = np.zeros(len(tesc1), dtype=bool)\n",
    "for ii in range(len(pericenter_passages_indices)):\n",
    "    minDex, upDex = pericenter_passages_indices[ii]\n",
    "    condA = tesc1 > torbit[minDex]\n",
    "    condB = tesc1 < torbit[upDex]\n",
    "    condC = np.logical_and(condA, condB)\n",
    "    groups.append(condC)\n",
    "    cond = np.logical_or(cond, condC)\n",
    "ungroupped = ~cond"
   ]
  },
  {
   "cell_type": "code",
   "execution_count": null,
   "id": "81846e51",
   "metadata": {},
   "outputs": [],
   "source": [
    "# Create histograms\n",
    "counts_groups, bin_edges = create_histograms(xp, groups, xlims)\n",
    "counts_leak, _ = np.histogram(xp[ungroupped], bins=bin_edges)\n",
    "counts_total, _ = np.histogram(xp, bins=bin_edges)\n",
    "bin_centers = 0.5 * (bin_edges[1:] + bin_edges[:-1])    \n",
    "# make a groupped total \n",
    "counts_grouped = np.zeros_like(counts_total)\n",
    "for i in range(len(counts_groups)):\n",
    "    counts_grouped += counts_groups[i]"
   ]
  },
  {
   "cell_type": "code",
   "execution_count": null,
   "id": "c070ffd5",
   "metadata": {},
   "outputs": [],
   "source": [
    "# Set the colors for the tree\n",
    "colors = mycmap(np.linspace(0, 1, len(minima_indices)))"
   ]
  },
  {
   "cell_type": "code",
   "execution_count": null,
   "id": "bcd98601",
   "metadata": {},
   "outputs": [],
   "source": [
    "AXIS0 = {\n",
    "    \"xlim\": xlims,\n",
    "    \"ylim\": [1,  np.max(counts_total)],\n",
    "    \"xticks\": [],\n",
    "    \"yscale\": \"log\",\n",
    "    \"yticks\": [1, 10, 100, 1000],\n",
    "    \"ylim\":[1,1e3]\n",
    "}\n",
    "AXIS1 = {\n",
    "    \"xlim\": xlims,\n",
    "    \"ylim\": [1,  np.max(counts_total)],\n",
    "    \"xticks\": [],\n",
    "    \"yscale\": \"log\",\n",
    "    \"yticks\": [1, 10, 100, ],\n",
    "    \"ylim\":[1,1e3]\n",
    "}\n",
    "AXIS2 = {\n",
    "    \"xlim\": xlims,\n",
    "    \"ylim\": [1,  np.max(counts_total)],\n",
    "    \"xticks\": [],\n",
    "    \"yscale\": \"log\",\n",
    "    \"yticks\": [1, 10, 100,],\n",
    "    \"ylim\":[1,1e3]\n",
    "}\n",
    "\n",
    "AXIS3 = {\n",
    "    \"xlim\": xlims,\n",
    "    \"ylim\": [1,  np.max(counts_total)],\n",
    "    \"xlabel\": \"$x_{tail}$ [kpc]\",\n",
    "    \"xticks\": np.arange(-12, 12 + 3, 3),\n",
    "    \"yscale\": \"log\",\n",
    "    \"yticks\": [1, 10, 100, ],\n",
    "    \"ylim\":[1,1e3]\n",
    "}"
   ]
  },
  {
   "cell_type": "code",
   "execution_count": null,
   "id": "6f6f8bca",
   "metadata": {},
   "outputs": [],
   "source": [
    "npericenterpassages = len(groups)\n",
    "\n",
    "fig=plt.figure(figsize=(8.25-2, 11.69-2-2))\n",
    "gs = mpl.gridspec.GridSpec(4, 2, figure=fig,width_ratios=[1, 1/50],wspace=0,hspace=0.05)\n",
    "cax = fig.add_subplot(gs[:, 1])\n",
    "axes=[]\n",
    "axes.append(fig.add_subplot(gs[0, 0]))\n",
    "axes.append(fig.add_subplot(gs[1, 0]))\n",
    "axes.append(fig.add_subplot(gs[2, 0]))\n",
    "axes.append(fig.add_subplot(gs[3, 0]))\n",
    "\n",
    "\n",
    "\n",
    "# Add shaded areas for each group\n",
    "floor = 0.1\n",
    "# for i in range(npericenterpassages):\n",
    "for i in range(0,4,2):\n",
    "    alpha = (i/npericenterpassages + floor) / (1+floor)\n",
    "    y = counts_groups[i]\n",
    "    color = colors[i]\n",
    "    # Set label for last group\n",
    "    label = \"shocked outflow\" if i == npericenterpassages-1 else None\n",
    "    # Create shaded area\n",
    "    axes[0].fill_between(bin_centers, y, 0, \n",
    "                        color=color, \n",
    "                        alpha=alpha, \n",
    "                        zorder=i+1,\n",
    "                        label=label)\n",
    "    axes[0].plot(bin_centers, y, color=color, alpha=1, zorder=i+1)\n",
    "\n",
    "for i in range(1,4,2):\n",
    "    alpha = (i/npericenterpassages + floor) / (1+floor)\n",
    "    y = counts_groups[i]\n",
    "    color = colors[i]\n",
    "    # Set label for last group\n",
    "    label = \"shocked outflow\" if i == npericenterpassages-1 else None\n",
    "    # Create shaded area\n",
    "    axes[1].fill_between(bin_centers, y, 0, \n",
    "                        color=color, \n",
    "                        alpha=alpha, \n",
    "                        zorder=i+1,\n",
    "                        label=label)\n",
    "    axes[1].plot(bin_centers, y, color=color, alpha=1, zorder=i+1)\n",
    "\n",
    "\n",
    "for i in range(0,npericenterpassages,1):\n",
    "    alpha = ((i)/npericenterpassages + floor) / (1+floor)\n",
    "    y = counts_groups[i]\n",
    "    color = colors[i]\n",
    "    # Set label for last group\n",
    "    label = \"shocked outflow\" if i == npericenterpassages-1 else None\n",
    "    # Create shaded area\n",
    "    axes[2].fill_between(bin_centers, y, 0, \n",
    "                        color=color, \n",
    "                        alpha=alpha, \n",
    "                        zorder=i+1,\n",
    "                        label=label)\n",
    "    axes[2].plot(bin_centers, y, color=color, alpha=1, zorder=i)\n",
    "\n",
    "axes[3].plot(bin_centers, counts_grouped, label=\"shocked stars\", color=colors[5], lw=2,zorder=npericenterpassages+1)\n",
    "axes[2].plot(bin_centers, counts_grouped, label=\"shocked stars\", color=colors[5], lw=2,zorder=npericenterpassages+1)\n",
    "axes[3].plot(bin_centers, counts_leak, label=\"leak outflow\", color=\"gray\", lw=2)\n",
    "axes[3].plot(bin_centers, counts_total, label=\"total\", color=\"k\", lw=2,zorder=npericenterpassages+10)\n",
    "axes[3].legend(fontsize=10, frameon=False,)\n",
    "\n",
    "axes[0].annotate(r\"$1^{\\mathrm{st}}$ shocked out flow\", xytext=(0.5,0.85), xy=(0.75, 0.675),\n",
    "                 xycoords=\"axes fraction\", ha=\"center\", va=\"center\", fontsize=10,\n",
    "                              arrowprops=dict(facecolor='black', shrink=0.05, width=1., headwidth=10))\n",
    "\n",
    "axes[0].annotate(r\"$3^{\\mathrm{rd}}$\",xytext=(0.50,0.6),  xy=(0.8, 0.3), \n",
    "                 xycoords=\"axes fraction\", ha=\"center\", va=\"center\", fontsize=10,\n",
    "                              arrowprops=dict(facecolor='black', shrink=0.05, width=1., headwidth=10))\n",
    "\n",
    "axes[1].annotate(r\"$2^{\\mathrm{nd}}$ \", xytext=(0.575,0.85), xy=(0.775, 0.45),\n",
    "                 xycoords=\"axes fraction\", ha=\"center\", va=\"center\", fontsize=10,\n",
    "                              arrowprops=dict(facecolor='black', shrink=0.05, width=1., headwidth=10))\n",
    "\n",
    "axes[1].annotate(r\"$4^{\\mathrm{th}}$\",xytext=(0.65,0.5),  xy=(0.8, 0.2), \n",
    "                 xycoords=\"axes fraction\", ha=\"center\", va=\"center\", fontsize=10,\n",
    "                              arrowprops=dict(facecolor='black', shrink=0.05, width=1., headwidth=10),zorder=25)\n",
    "\n",
    "\n",
    "sm = mpl.cm.ScalarMappable(cmap=mycmap, norm=mpl.colors.Normalize(vmin=torbit[0], vmax=0))\n",
    "sm.set_array([])\n",
    "cbar = fig.colorbar(sm, cax=cax)\n",
    "cbar.set_label(\"Escape time [s kpc / km]\", rotation=90, labelpad=10)\n",
    "axes[0].set(**AXIS0);\n",
    "axes[1].set(**AXIS1);\n",
    "axes[2].set(**AXIS2);\n",
    "axes[3].set(**AXIS3);\n",
    "fig.supylabel(\"N [counts]\")\n",
    "\n",
    "fig.savefig(\"../paper/decoherence_shocked_outflow.png\", dpi=300, bbox_inches='tight')"
   ]
  },
  {
   "cell_type": "code",
   "execution_count": null,
   "id": "9d3d948b",
   "metadata": {},
   "outputs": [],
   "source": []
  },
  {
   "cell_type": "code",
   "execution_count": null,
   "id": "74e1a4e5",
   "metadata": {},
   "outputs": [],
   "source": []
  }
 ],
 "metadata": {
  "kernelspec": {
   "display_name": "stream_analysis",
   "language": "python",
   "name": "python3"
  },
  "language_info": {
   "codemirror_mode": {
    "name": "ipython",
    "version": 3
   },
   "file_extension": ".py",
   "mimetype": "text/x-python",
   "name": "python",
   "nbconvert_exporter": "python",
   "pygments_lexer": "ipython3",
   "version": "3.11.11"
  }
 },
 "nbformat": 4,
 "nbformat_minor": 5
}
