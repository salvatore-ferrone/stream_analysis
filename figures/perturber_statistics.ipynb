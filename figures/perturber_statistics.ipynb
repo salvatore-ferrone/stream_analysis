{
 "cells": [
  {
   "cell_type": "code",
   "execution_count": 1,
   "metadata": {},
   "outputs": [],
   "source": [
    "import numpy as np \n",
    "from gcs import path_handler as ph \n",
    "import gcs\n",
    "import tstrippy\n",
    "import matplotlib.pyplot as plt\n",
    "import os \n",
    "import h5py"
   ]
  },
  {
   "cell_type": "code",
   "execution_count": 2,
   "metadata": {},
   "outputs": [],
   "source": [
    "def snag_all_init_cond_per_GC(fname, nmontecarlo=50):\n",
    "    with h5py.File(fname, \"r\") as myfile:\n",
    "        x = np.zeros(nmontecarlo)\n",
    "        y = np.zeros(nmontecarlo)\n",
    "        z = np.zeros(nmontecarlo)\n",
    "        vx = np.zeros(nmontecarlo)\n",
    "        vy = np.zeros(nmontecarlo)\n",
    "        vz = np.zeros(nmontecarlo)\n",
    "        \n",
    "        for j in range(nmontecarlo):\n",
    "            group = myfile[f\"monte-carlo-{str(j).zfill(3)}\"]\n",
    "            x[j] = group['xt'][0]\n",
    "            y[j] = group['yt'][0]\n",
    "            z[j] = group['zt'][0]\n",
    "            vx[j] = group['vxt'][0]\n",
    "            vy[j] = group['vyt'][0]\n",
    "            vz[j] = group['vzt'][0]\n",
    "        \n",
    "        return x, y, z, vx, vy, vz"
   ]
  },
  {
   "cell_type": "code",
   "execution_count": 3,
   "metadata": {},
   "outputs": [],
   "source": [
    "def allensantillianhalo(params,x,y,z):\n",
    "    G = params[0]\n",
    "    M= params[1]\n",
    "    a = params[2]\n",
    "    gamma = params[3]\n",
    "    rcut = params[4]\n",
    "\n",
    "    r = np.sqrt(x**2+y**2+z**2)\n",
    "    beyond = r>rcut\n",
    "\n",
    "    massMod = M*(r/a)**gamma\n",
    "    massMod = massMod/(1+(r/a)**(gamma-1))\n",
    "    amod = G*massMod/r**3\n",
    "    ax,ay,az = -amod*x,-amod*y,-amod*z\n",
    "\n",
    "    # update for the case where r>rcut\n",
    "    mtotal = M*(rcut/a)**gamma / (1+(rcut/a)**(gamma-1))\n",
    "    amod = G*mtotal/rcut**3\n",
    "    ax[beyond],ay[beyond],az[beyond] = -amod*x[beyond],-amod*y[beyond],-amod*z[beyond]\n",
    "\n",
    "    phic = -(G*mtotal/rcut) - (G*M/a) * np.log(1 + (rcut/a)**(gamma-1))\n",
    "    phi = (G*M/a) * np.log(1 + (r/a)**(gamma-1)) +phic\n",
    "\n",
    "    phi[beyond] =  -(G*mtotal/r[beyond]) \n",
    "\n",
    "    return ax,ay,az,phi\n",
    "\n",
    "\n",
    "def correctedhalo(MWparams,x,y,z):\n",
    "    haloparms = [*MWparams[0:5]]\n",
    "    disk1params = [MWparams[0],*MWparams[5:8]]\n",
    "    disk2params = [MWparams[0],*MWparams[8:]]\n",
    "    phi = allensantillianhalo(haloparms,x,y,z)[3]\n",
    "    phi1 = tstrippy.potentials.miyamotonagai(disk1params,x,y,z)[3]\n",
    "    phi2 = tstrippy.potentials.miyamotonagai(disk2params,x,y,z)[3]\n",
    "    return phi+phi1+phi2\n",
    "\n"
   ]
  },
  {
   "cell_type": "code",
   "execution_count": 4,
   "metadata": {},
   "outputs": [],
   "source": [
    "# Configure Matplotlib to use LaTeX for text rendering\n",
    "plt.rcParams.update({\n",
    "    \"text.usetex\": True,\n",
    "    \"font.family\": \"serif\",  # Use 'serif' or specify the exact font family\n",
    "    \"font.serif\": [\"Times New Roman\"],  # Replace with the font used in your LaTeX document\n",
    "    \"axes.labelsize\": 12,  # Font size for axis labels\n",
    "    \"font.size\": 12,  # General font size\n",
    "    \"legend.fontsize\": 12,  # Font size for legend\n",
    "    \"xtick.labelsize\": 12,  # Font size for x-axis tick labels\n",
    "    \"ytick.labelsize\": 12,  # Font size for y-axis tick labels\n",
    "})"
   ]
  },
  {
   "cell_type": "code",
   "execution_count": 5,
   "metadata": {},
   "outputs": [],
   "source": [
    "dark=False\n",
    "potential=\"pouliasis2017pii\"\n",
    "montecarlokey=\"monte-carlo-000\"\n",
    "results_path=ph.paths['simulations'] + \"/ImpactGeometry/pouliasis2017pii-GCNBody/Pal5\"+\"/AllImpactGeometryByHandAndEye.csv\""
   ]
  },
  {
   "cell_type": "code",
   "execution_count": 6,
   "metadata": {},
   "outputs": [],
   "source": [
    "if dark==True:\n",
    "    plt.style.use('dark_background')\n",
    "    outname=\"E_Lz_perturbers_dark.png\"\n",
    "    outname2=\"Pal5_radial_coordinate_with_perturbers_dark.png\"\n",
    "    outname3=\"mass_size_plane_dark.png\"\n",
    "else:\n",
    "    outname=\"E_Lz_perturbers.png\"\n",
    "    outname2=\"Pal5_radial_coordinate_with_perturbers.png\"\n",
    "    outname3=\"mass_size_plane.png\"\n",
    "\n"
   ]
  },
  {
   "cell_type": "code",
   "execution_count": 7,
   "metadata": {},
   "outputs": [],
   "source": [
    "# Assuming the CSV file has a header\n",
    "data = np.genfromtxt(results_path, delimiter=',', names=True, dtype=None, encoding='utf-8')\n",
    "\n",
    "# Extract each column into a separate numpy array\n",
    "column_names = data.dtype.names\n",
    "columns = {name: data[name] for name in column_names}\n",
    "# Example: Accessing individual columns\n",
    "impact_parameter = columns['impact_parameter']\n",
    "gap_flag = columns['gap_flag']\n",
    "suspects=columns['suspect']\n",
    "montecarlokey = columns[\"montecarlokey\"]\n",
    "Mass=columns['Mass']\n",
    "rplum=columns['rplum']\n",
    "guilty=np.unique(suspects[gap_flag])\n",
    "tau=columns['tau']\n",
    "Time=columns['T']"
   ]
  },
  {
   "cell_type": "code",
   "execution_count": 8,
   "metadata": {},
   "outputs": [],
   "source": [
    "GCnames=tstrippy.Parsers.baumgardtMWGCs().data['Cluster']"
   ]
  },
  {
   "cell_type": "code",
   "execution_count": 9,
   "metadata": {},
   "outputs": [],
   "source": [
    "guilty = suspects[gap_flag]\n",
    "guilty_montecarlokey = montecarlokey[gap_flag]\n",
    "guilty_impact_parameter = impact_parameter[gap_flag]\n",
    "guilty_mass = Mass[gap_flag]\n",
    "guilty_rplum = rplum[gap_flag]\n",
    "guilty_tau = tau[gap_flag]\n",
    "guilty_time = Time[gap_flag]"
   ]
  },
  {
   "cell_type": "code",
   "execution_count": 11,
   "metadata": {},
   "outputs": [],
   "source": [
    "# get the ids of those that were guilty\n",
    "guilty_ids =[]\n",
    "for i in range(len(guilty)):\n",
    "    guilty_ids.append( [np.where(GCnames==guilty[i])[0][0],int(guilty_montecarlokey[i].split(\"-\")[2])])\n",
    "pal5ID = np.where(GCnames==\"Pal5\")[0][0]"
   ]
  },
  {
   "cell_type": "code",
   "execution_count": 13,
   "metadata": {},
   "outputs": [
    {
     "data": {
      "text/plain": [
       "73"
      ]
     },
     "execution_count": 13,
     "metadata": {},
     "output_type": "execute_result"
    }
   ],
   "source": [
    "len(guilty_ids)"
   ]
  },
  {
   "cell_type": "code",
   "execution_count": 14,
   "metadata": {},
   "outputs": [
    {
     "name": "stdout",
     "output_type": "stream",
     "text": [
      "NGC104\n",
      "0:00:00.000240\n",
      "NGC1904\n",
      "0:00:00.392694\n",
      "NGC4147\n",
      "0:00:00.744083\n",
      "NGC5286\n",
      "0:00:01.101850\n",
      "NGC5927\n",
      "0:00:01.452095\n",
      "NGC6139\n",
      "0:00:01.804464\n",
      "NGC6256\n",
      "0:00:02.168607\n",
      "NGC6304\n",
      "0:00:02.530619\n",
      "Ter2\n",
      "0:00:02.883830\n",
      "NGC6388\n",
      "0:00:03.237370\n",
      "NGC6441\n",
      "0:00:03.588827\n",
      "Ter10\n",
      "0:00:04.014099\n",
      "ESO280-SC06\n",
      "0:00:04.411981\n",
      "NGC6626\n",
      "0:00:04.793758\n",
      "NGC6717\n",
      "0:00:05.158149\n",
      "Ter8\n",
      "0:00:05.524074\n",
      "NGC7089\n",
      "0:00:05.880147\n",
      "total compute time: 0:00:06.076127 s\n"
     ]
    }
   ],
   "source": [
    "import datetime\n",
    "MWparams=tstrippy.Parsers.potential_parameters.pouliasis2017pii()\n",
    "nmontecarlo=50\n",
    "phase_space=np.zeros((len(GCnames),6))\n",
    "V = np.zeros((len(GCnames),nmontecarlo))\n",
    "T = np.zeros((len(GCnames),nmontecarlo))\n",
    "Lz = np.zeros((len(GCnames),nmontecarlo))\n",
    "starttime=datetime.datetime.now()\n",
    "for i in range(len(GCnames)):\n",
    "    if np.mod(i,10)==0:\n",
    "        print(GCnames[i])\n",
    "        print(datetime.datetime.now()-starttime)\n",
    "    x,y,z,vx,vy,vz=snag_all_init_cond_per_GC(ph.GC_orbits(potential,GCnames[i]))\n",
    "    # _,_,_,phi=tstrippy.potentials.pouliasis2017pii(MWparams,x,y,z)\n",
    "    phi=correctedhalo(MWparams,x,y,z)\n",
    "    V[i]=phi\n",
    "    T[i]=0.5*(vx**2+vy**2+vz**2)\n",
    "    Lz[i] = x*vy-y*vx\n",
    "endtime=datetime.datetime.now()\n",
    "print(\"total compute time:\", endtime-starttime, \"s\")"
   ]
  },
  {
   "cell_type": "code",
   "execution_count": 15,
   "metadata": {},
   "outputs": [],
   "source": [
    "E = T.flatten() + V.flatten()\n",
    "Lzz=Lz.flatten()"
   ]
  },
  {
   "cell_type": "code",
   "execution_count": 16,
   "metadata": {},
   "outputs": [],
   "source": [
    "num_objects=len(GCnames)\n",
    "# Get a colormap\n",
    "cmap = plt.get_cmap('cividis')\n",
    "# Generate a list of unique colors\n",
    "colors = [cmap(i / num_objects) for i in range(num_objects)]\n",
    "# Define a list of marker styles\n",
    "markers = ['o', 's', 'D', '^', 'v', '<', '>', 'p', '*', 'h', 'H', '+', 'x', 'd', '|', '_']\n",
    "markers = ['o', 's', 'D', '^', 'v', '<', '>', 'p', '*', 'h', 'H', '+', 'x', 'd',]\n"
   ]
  },
  {
   "cell_type": "code",
   "execution_count": 17,
   "metadata": {},
   "outputs": [],
   "source": [
    "AXIS=dict(xlabel=r\"$L_z$ [kpc km/s]\",\n",
    "          ylabel=r\"$E$ [km$^2$/s$^2$]\",\n",
    "          xlim=[-5000,5000])"
   ]
  },
  {
   "cell_type": "code",
   "execution_count": 18,
   "metadata": {},
   "outputs": [],
   "source": [
    "perturberscatter={\"facecolors\":\"red\",\"edgecolors\":\"white\",}\n"
   ]
  },
  {
   "cell_type": "code",
   "execution_count": 19,
   "metadata": {},
   "outputs": [],
   "source": [
    "outdir=\"../paper/\""
   ]
  },
  {
   "cell_type": "code",
   "execution_count": 31,
   "metadata": {},
   "outputs": [
    {
     "data": {
      "text/plain": [
       "(165, 50)"
      ]
     },
     "execution_count": 31,
     "metadata": {},
     "output_type": "execute_result"
    }
   ],
   "source": [
    "# GCnames[guilty_ids[0]]\n",
    "T.shape"
   ]
  },
  {
   "cell_type": "code",
   "execution_count": 34,
   "metadata": {},
   "outputs": [
    {
     "data": {
      "image/png": "[encoded data removed]",
      "text/plain": [
       "<Figure size 500x400 with 1 Axes>"
      ]
     },
     "metadata": {},
     "output_type": "display_data"
    }
   ],
   "source": [
    "fig,ax=plt.subplots(1,1,figsize=(5,4))\n",
    "\n",
    "ax.scatter(Lz[i][:],T[i]+V[i],color=\"k\",s=1,alpha=1,marker=\".\",label=\"Other GCs\")\n",
    "for i in range(1,num_objects):\n",
    "    marker = markers[i % len(markers)]  # Cycle through markers\n",
    "    ax.scatter(Lz[i][:],T[i]+V[i],color=\"k\",s=1,alpha=0.3,marker=\".\")\n",
    "\n",
    "# ax.scatter(Lz[*guilty_ids[0]],T[*guilty_ids[0]]+V[*guilty_ids[0]],label=\"Perturbers\",*perturberscatter)\n",
    "ax.scatter(Lz[*guilty_ids[0]],T[*guilty_ids[0]]+V[*guilty_ids[0]],label=\"Perturbers\",**perturberscatter)\n",
    "for myids in guilty_ids:\n",
    "    # for j in range(len(myids)):\n",
    "    ax.scatter(Lz[*myids],T[*myids]+V[*myids],**perturberscatter)\n",
    "    ax.text(Lz[*myids],T[*myids]+V[*myids],\"OK\",fontsize=8)\n",
    "# for j in range(1,len(guilty_ids)):\n",
    "    # ax.scatter(Lz[*guilty_ids[j]],T[*guilty_ids[j]]+V[*guilty_ids[j]],**perturberscatter)\n",
    "\n",
    "\n",
    "ax.scatter(Lz[pal5ID][:],T[pal5ID][:]+V[pal5ID][:],label=\"Pal5\",facecolors='white',edgecolors='black')\n",
    "ax.set(**AXIS)\n",
    "ax.tick_params(axis='y', rotation=45)  # Rotate y-axis ticks by 45 degrees\n",
    "ax.legend(fontsize=12)\n",
    "\n",
    "fig.tight_layout()\n",
    "fig.savefig(outdir+outname,dpi=300)"
   ]
  },
  {
   "cell_type": "markdown",
   "metadata": {},
   "source": [
    "# Mass and Size"
   ]
  },
  {
   "cell_type": "code",
   "execution_count": 18,
   "metadata": {},
   "outputs": [],
   "source": [
    "Mass_all=tstrippy.Parsers.baumgardtMWGCs().data['Mass']\n",
    "rh_m=tstrippy.Parsers.baumgardtMWGCs().data['rh_m']\n",
    "DM=tstrippy.Parsers.baumgardtMWGCs().data['DM']"
   ]
  },
  {
   "cell_type": "code",
   "execution_count": 19,
   "metadata": {},
   "outputs": [],
   "source": [
    "from matplotlib.patches import Ellipse"
   ]
  },
  {
   "cell_type": "code",
   "execution_count": 20,
   "metadata": {},
   "outputs": [],
   "source": [
    "rplum_all=gcs.misc.half_mass_to_plummer(rh_m.value)"
   ]
  },
  {
   "cell_type": "code",
   "execution_count": 21,
   "metadata": {},
   "outputs": [],
   "source": [
    "guilty_rh_m=[]\n",
    "for xx in guilty_ids:\n",
    "    guilty_rh_m.append(rh_m[xx[0]].value)\n",
    "guilty_rh_m=np.array(guilty_rh_m)"
   ]
  },
  {
   "cell_type": "code",
   "execution_count": 22,
   "metadata": {},
   "outputs": [],
   "source": [
    "plt.rcParams.update({\n",
    "    \"text.usetex\": True,\n",
    "    \"font.family\": \"serif\",  # Use 'serif' or specify the exact font family\n",
    "    \"font.serif\": [\"Times New Roman\"],  # Replace with the font used in your LaTeX document\n",
    "    \"axes.labelsize\": 12,  # Font size for axis labels\n",
    "    \"font.size\": 12,  # General font size\n",
    "    \"legend.fontsize\": 12,  # Font size for legend\n",
    "    \"xtick.labelsize\": 12,  # Font size for x-axis tick labels\n",
    "    \"ytick.labelsize\": 12,  # Font size for y-axis tick labels\n",
    "})"
   ]
  },
  {
   "cell_type": "code",
   "execution_count": 23,
   "metadata": {},
   "outputs": [
    {
     "data": {
      "image/png": "[encoded data removed]",
      "text/plain": [
       "<Figure size 500x400 with 1 Axes>"
      ]
     },
     "metadata": {},
     "output_type": "display_data"
    }
   ],
   "source": [
    "AXIS=dict(yscale='log',xlabel=r\"$r_{\\rm \\frac{1}{2} mass}$ [pc]\",ylabel=r\"$M$ [$M_{\\odot}$]\")\n",
    "\n",
    "\n",
    "fig,myaxis=plt.subplots(1,1,figsize=(5,4))\n",
    "for i in range(len(Mass_all)):\n",
    "    xy=(1000*rh_m[i].value,Mass_all[i].value,2*DM[i].value)\n",
    "    # print(xy)\n",
    "    ellipse = Ellipse(xy=(1000*rh_m[i].value,Mass_all[i].value), width=.1, height=2*DM[i].value, lw=2,color=\"k\",alpha=0.2)\n",
    "    myaxis.add_patch(ellipse)\n",
    "\n",
    "myaxis.scatter(1000*guilty_rh_m,guilty_mass,marker='o',facecolor='red',linestyle='None',label=\"Other GCs\",edgecolor='white',zorder=0)\n",
    "\n",
    "# axis.scatter(1000*rh_m.value,Mass,label=\"Perturbers\",)\n",
    "myaxis.scatter(1000*rh_m[pal5ID].value,Mass_all[pal5ID],label=\"Pal5\",facecolor='white',edgecolor='black',zorder=1)\n",
    "myaxis.set(**AXIS)\n",
    "\n",
    "\n",
    "# axis.legend()\n",
    "fig.tight_layout()\n",
    "fig.savefig(outdir+outname3,dpi=300)\n",
    "plt.show()"
   ]
  },
  {
   "cell_type": "markdown",
   "metadata": {},
   "source": [
    "# $$\\rho = \\log(N) $$\n",
    "\n",
    "# $$ \\delta \\rho = \\frac{d \\rho}{dN} \\delta N$$\n",
    "\n",
    "# $$ \\delta \\rho = \\frac{1}{\\ln (10) (N)} \\sqrt{N} $$\n",
    "\n",
    "# $$ \\delta \\rho = \\frac{1}{\\ln(10) \\sqrt{N}}  $$\n",
    "\n",
    "# impongo che \n",
    "## $$ S/R = 50 $$\n",
    "\n",
    "# $$ 50 >  \\log(N) \\ln(10) \\sqrt{N} $$\n",
    "\n"
   ]
  },
  {
   "cell_type": "code",
   "execution_count": 24,
   "metadata": {},
   "outputs": [
    {
     "ename": "RuntimeError",
     "evalue": "module compiled against API version 0x10 but this version of numpy is 0xf",
     "output_type": "error",
     "traceback": [
      "\u001b[0;31m---------------------------------------------------------------------------\u001b[0m",
      "\u001b[0;31mRuntimeError\u001b[0m                              Traceback (most recent call last)",
      "\u001b[0;31mRuntimeError\u001b[0m: module compiled against API version 0x10 but this version of numpy is 0xf"
     ]
    },
    {
     "ename": "ImportError",
     "evalue": "numpy.core.multiarray failed to import",
     "output_type": "error",
     "traceback": [
      "\u001b[0;31m---------------------------------------------------------------------------\u001b[0m",
      "\u001b[0;31mImportError\u001b[0m                               Traceback (most recent call last)",
      "Cell \u001b[0;32mIn[24], line 1\u001b[0m\n\u001b[0;32m----> 1\u001b[0m \u001b[38;5;28;01mfrom\u001b[39;00m \u001b[38;5;21;01mscipy\u001b[39;00m\u001b[38;5;21;01m.\u001b[39;00m\u001b[38;5;21;01moptimize\u001b[39;00m \u001b[38;5;28;01mimport\u001b[39;00m fsolve\n\u001b[1;32m      2\u001b[0m \u001b[38;5;28;01mimport\u001b[39;00m \u001b[38;5;21;01mnumpy\u001b[39;00m \u001b[38;5;28;01mas\u001b[39;00m \u001b[38;5;21;01mnp\u001b[39;00m \n",
      "File \u001b[0;32m~/miniconda3/envs/tstrippy/lib/python3.11/site-packages/scipy/optimize/__init__.py:400\u001b[0m\n\u001b[1;32m      1\u001b[0m \u001b[38;5;124;03m\"\"\"\u001b[39;00m\n\u001b[1;32m      2\u001b[0m \u001b[38;5;124;03m=====================================================\u001b[39;00m\n\u001b[1;32m      3\u001b[0m \u001b[38;5;124;03mOptimization and root finding (:mod:`scipy.optimize`)\u001b[39;00m\n\u001b[0;32m   (...)\u001b[0m\n\u001b[1;32m    397\u001b[0m \n\u001b[1;32m    398\u001b[0m \u001b[38;5;124;03m\"\"\"\u001b[39;00m\n\u001b[0;32m--> 400\u001b[0m \u001b[38;5;28;01mfrom\u001b[39;00m \u001b[38;5;21;01m.\u001b[39;00m\u001b[38;5;21;01m_optimize\u001b[39;00m \u001b[38;5;28;01mimport\u001b[39;00m \u001b[38;5;241m*\u001b[39m\n\u001b[1;32m    401\u001b[0m \u001b[38;5;28;01mfrom\u001b[39;00m \u001b[38;5;21;01m.\u001b[39;00m\u001b[38;5;21;01m_minimize\u001b[39;00m \u001b[38;5;28;01mimport\u001b[39;00m \u001b[38;5;241m*\u001b[39m\n\u001b[1;32m    402\u001b[0m \u001b[38;5;28;01mfrom\u001b[39;00m \u001b[38;5;21;01m.\u001b[39;00m\u001b[38;5;21;01m_root\u001b[39;00m \u001b[38;5;28;01mimport\u001b[39;00m \u001b[38;5;241m*\u001b[39m\n",
      "File \u001b[0;32m~/miniconda3/envs/tstrippy/lib/python3.11/site-packages/scipy/optimize/_optimize.py:33\u001b[0m\n\u001b[1;32m     30\u001b[0m \u001b[38;5;28;01mfrom\u001b[39;00m \u001b[38;5;21;01mnumpy\u001b[39;00m \u001b[38;5;28;01mimport\u001b[39;00m (atleast_1d, eye, argmin, zeros, shape, squeeze,\n\u001b[1;32m     31\u001b[0m                    asarray, sqrt, Inf, asfarray)\n\u001b[1;32m     32\u001b[0m \u001b[38;5;28;01mimport\u001b[39;00m \u001b[38;5;21;01mnumpy\u001b[39;00m \u001b[38;5;28;01mas\u001b[39;00m \u001b[38;5;21;01mnp\u001b[39;00m\n\u001b[0;32m---> 33\u001b[0m \u001b[38;5;28;01mfrom\u001b[39;00m \u001b[38;5;21;01mscipy\u001b[39;00m\u001b[38;5;21;01m.\u001b[39;00m\u001b[38;5;21;01msparse\u001b[39;00m\u001b[38;5;21;01m.\u001b[39;00m\u001b[38;5;21;01mlinalg\u001b[39;00m \u001b[38;5;28;01mimport\u001b[39;00m LinearOperator\n\u001b[1;32m     34\u001b[0m \u001b[38;5;28;01mfrom\u001b[39;00m \u001b[38;5;21;01m.\u001b[39;00m\u001b[38;5;21;01m_linesearch\u001b[39;00m \u001b[38;5;28;01mimport\u001b[39;00m (line_search_wolfe1, line_search_wolfe2,\n\u001b[1;32m     35\u001b[0m                           line_search_wolfe2 \u001b[38;5;28;01mas\u001b[39;00m line_search,\n\u001b[1;32m     36\u001b[0m                           LineSearchWarning)\n\u001b[1;32m     37\u001b[0m \u001b[38;5;28;01mfrom\u001b[39;00m \u001b[38;5;21;01m.\u001b[39;00m\u001b[38;5;21;01m_numdiff\u001b[39;00m \u001b[38;5;28;01mimport\u001b[39;00m approx_derivative\n",
      "File \u001b[0;32m~/miniconda3/envs/tstrippy/lib/python3.11/site-packages/scipy/sparse/__init__.py:267\u001b[0m\n\u001b[1;32m    264\u001b[0m \u001b[38;5;28;01mimport\u001b[39;00m \u001b[38;5;21;01mwarnings\u001b[39;00m \u001b[38;5;28;01mas\u001b[39;00m \u001b[38;5;21;01m_warnings\u001b[39;00m\n\u001b[1;32m    266\u001b[0m \u001b[38;5;28;01mfrom\u001b[39;00m \u001b[38;5;21;01m.\u001b[39;00m\u001b[38;5;21;01m_base\u001b[39;00m \u001b[38;5;28;01mimport\u001b[39;00m \u001b[38;5;241m*\u001b[39m\n\u001b[0;32m--> 267\u001b[0m \u001b[38;5;28;01mfrom\u001b[39;00m \u001b[38;5;21;01m.\u001b[39;00m\u001b[38;5;21;01m_csr\u001b[39;00m \u001b[38;5;28;01mimport\u001b[39;00m \u001b[38;5;241m*\u001b[39m\n\u001b[1;32m    268\u001b[0m \u001b[38;5;28;01mfrom\u001b[39;00m \u001b[38;5;21;01m.\u001b[39;00m\u001b[38;5;21;01m_csc\u001b[39;00m \u001b[38;5;28;01mimport\u001b[39;00m \u001b[38;5;241m*\u001b[39m\n\u001b[1;32m    269\u001b[0m \u001b[38;5;28;01mfrom\u001b[39;00m \u001b[38;5;21;01m.\u001b[39;00m\u001b[38;5;21;01m_lil\u001b[39;00m \u001b[38;5;28;01mimport\u001b[39;00m \u001b[38;5;241m*\u001b[39m\n",
      "File \u001b[0;32m~/miniconda3/envs/tstrippy/lib/python3.11/site-packages/scipy/sparse/_csr.py:10\u001b[0m\n\u001b[1;32m      7\u001b[0m \u001b[38;5;28;01mimport\u001b[39;00m \u001b[38;5;21;01mnumpy\u001b[39;00m \u001b[38;5;28;01mas\u001b[39;00m \u001b[38;5;21;01mnp\u001b[39;00m\n\u001b[1;32m      9\u001b[0m \u001b[38;5;28;01mfrom\u001b[39;00m \u001b[38;5;21;01m.\u001b[39;00m\u001b[38;5;21;01m_base\u001b[39;00m \u001b[38;5;28;01mimport\u001b[39;00m spmatrix\n\u001b[0;32m---> 10\u001b[0m \u001b[38;5;28;01mfrom\u001b[39;00m \u001b[38;5;21;01m.\u001b[39;00m\u001b[38;5;21;01m_sparsetools\u001b[39;00m \u001b[38;5;28;01mimport\u001b[39;00m (csr_tocsc, csr_tobsr, csr_count_blocks,\n\u001b[1;32m     11\u001b[0m                            get_csr_submatrix)\n\u001b[1;32m     12\u001b[0m \u001b[38;5;28;01mfrom\u001b[39;00m \u001b[38;5;21;01m.\u001b[39;00m\u001b[38;5;21;01m_sputils\u001b[39;00m \u001b[38;5;28;01mimport\u001b[39;00m upcast, get_index_dtype\n\u001b[1;32m     14\u001b[0m \u001b[38;5;28;01mfrom\u001b[39;00m \u001b[38;5;21;01m.\u001b[39;00m\u001b[38;5;21;01m_compressed\u001b[39;00m \u001b[38;5;28;01mimport\u001b[39;00m _cs_matrix\n",
      "\u001b[0;31mImportError\u001b[0m: numpy.core.multiarray failed to import"
     ]
    }
   ],
   "source": [
    "from scipy.optimize import fsolve\n",
    "import numpy as np "
   ]
  },
  {
   "cell_type": "code",
   "execution_count": 5,
   "metadata": {},
   "outputs": [],
   "source": [
    "def equation(N,SNR):\n",
    "    return SNR - np.log10(N)*np.sqrt(N)*np.log(10)"
   ]
  },
  {
   "cell_type": "code",
   "execution_count": 11,
   "metadata": {},
   "outputs": [
    {
     "data": {
      "text/plain": [
       "array([6.8017009])"
      ]
     },
     "execution_count": 11,
     "metadata": {},
     "output_type": "execute_result"
    }
   ],
   "source": [
    "fsolve(equation,1,args=(5))"
   ]
  },
  {
   "cell_type": "code",
   "execution_count": null,
   "metadata": {},
   "outputs": [],
   "source": []
  }
 ],
 "metadata": {
  "kernelspec": {
   "display_name": "tstrippy",
   "language": "python",
   "name": "python3"
  },
  "language_info": {
   "codemirror_mode": {
    "name": "ipython",
    "version": 3
   },
   "file_extension": ".py",
   "mimetype": "text/x-python",
   "name": "python",
   "nbconvert_exporter": "python",
   "pygments_lexer": "ipython3",
   "version": "3.11.9"
  }
 },
 "nbformat": 4,
 "nbformat_minor": 2
}
