{
 "cells": [
  {
   "cell_type": "markdown",
   "metadata": {},
   "source": [
    "# Gap creation rate\n",
    "Inspired from Carlberg et al 2012 \n",
    "\n",
    "$$ R(r) = \\int _M \\int _{v_\\perp} \\int_{0}^{b_{\\textrm{max}}} n(r) N(M) v_\\perp f(v_\\perp) \\pi db dv_\\perp dM$$ \n",
    "\n",
    "for me, I am doing something numerical! so my result is:\n",
    "\n",
    "$$ R_{\\textrm{Pal 5}} =  \\frac{1}{T}\\int_{0}^T \\mathcal{l}^{-1}(t) \\sum_i \\delta(t-t_i) dt$$\n",
    "\n",
    "The delta function is zero everywhere except at $t_i$ which is the time at which the impacts occur. $\\mathcal{l}$ is the length of the stream, and $T$ is the total integration time. Therefore, for a given simulation:\n",
    "\n",
    "$$ R_{j,\\textrm{Pal 5}} =  \\frac{1}{T} \\sum_i \\frac{1}{l (t_i)}$$\n",
    "\n",
    "\n",
    "And then we look at the distribution of R for all the simulations: \n",
    "\n",
    "$$ \\langle R_{\\textrm{Pal 5}}\\rangle = \\textrm{Mean}(R_{j,\\textrm{Pal 5}}) $$"
   ]
  },
  {
   "cell_type": "code",
   "execution_count": null,
   "metadata": {},
   "outputs": [],
   "source": []
  },
  {
   "cell_type": "code",
   "execution_count": null,
   "metadata": {},
   "outputs": [],
   "source": []
  }
 ],
 "metadata": {
  "kernelspec": {
   "display_name": "base",
   "language": "python",
   "name": "python3"
  },
  "language_info": {
   "codemirror_mode": {
    "name": "ipython",
    "version": 3
   },
   "file_extension": ".py",
   "mimetype": "text/x-python",
   "name": "python",
   "nbconvert_exporter": "python",
   "pygments_lexer": "ipython3",
   "version": "3.12.2"
  }
 },
 "nbformat": 4,
 "nbformat_minor": 2
}
