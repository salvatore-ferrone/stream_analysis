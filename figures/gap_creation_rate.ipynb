{
 "cells": [
  {
   "cell_type": "markdown",
   "metadata": {},
   "source": [
    "# Gap creation rate\n",
    "Inspired from Carlberg et al 2012. The gap creation rate is the number of gaps normalized per unit length of stream and per time. \n",
    "\n",
    "$$ R(r) = \\int _M \\int _{v_\\perp} \\int_{0}^{b_{\\textrm{max}}} n(r) N(M) v_\\perp f(v_\\perp) \\pi db dv_\\perp dM$$ \n",
    "\n",
    "Here, Carlberg presents the distribution function of the sub halo masses $N(M)$ and the distribution of galactocentric distances $n(r)$. He integrates of all impact parameters and velocities that are perpendicular to the stream. However, I ran a numerical experiment for a specific stream. So the stream creation rate in this case is:\n",
    "\n",
    "\n",
    "$$ R_{\\textrm{Stream}} =  \\frac{1}{T}\\int_{0}^T \\mathcal{l}^{-1}(t) \\sum_i \\delta(t-t_i) dt$$\n",
    "\n",
    "Where $l(t)$ is the length of the stream at at time $t$ and $\\delta$ is the dirac delta function. $t_i$ are the times at which the stream was impacted by the perturber. The delta function is zero everywhere except at $t_i$ which is the time at which the impacts occur. $T$ is the total integration time. Therefore, for a given simulation:\n",
    "\n",
    "$$ R_{j,\\textrm{Stream}} =  \\frac{1}{T} \\sum_i \\frac{1}{l (t_i)}$$\n",
    "\n",
    "\n",
    "And then we look at the distribution of R for all the simulations: \n",
    "\n",
    "$$ \\langle R_{\\textrm{Stream}}\\rangle = \\textrm{Mean}(R_{j,\\textrm{Stream}}) $$"
   ]
  },
  {
   "cell_type": "code",
   "execution_count": 1,
   "metadata": {},
   "outputs": [],
   "source": [
    "import stream_analysis as sa\n",
    "from gcs import path_handler as ph \n",
    "import h5py\n",
    "import numpy as np \n",
    "import matplotlib.pyplot as plt\n",
    "import matplotlib as mpl\n",
    "import pandas as pd\n",
    "import gcs\n",
    "import astropy.units as u\n",
    "import datetime"
   ]
  },
  {
   "cell_type": "code",
   "execution_count": 2,
   "metadata": {},
   "outputs": [],
   "source": [
    "# Configure Matplotlib to use LaTeX for text rendering\n",
    "plt.rcParams.update({\n",
    "    \"text.usetex\": True,\n",
    "    \"font.family\": \"serif\",  # Use 'serif' or specify the exact font family\n",
    "    \"font.serif\": [\"Times New Roman\"],  # Replace with the font used in your LaTeX document\n",
    "    \"axes.labelsize\": 12,  # Font size for axis labels\n",
    "    \"font.size\": 12,  # General font size\n",
    "    \"legend.fontsize\": 12,  # Font size for legend\n",
    "    \"xtick.labelsize\": 12,  # Font size for x-axis tick labels\n",
    "    \"ytick.labelsize\": 12,  # Font size for y-axis tick labels\n",
    "})"
   ]
  },
  {
   "cell_type": "markdown",
   "metadata": {},
   "source": [
    "# Set data parameters"
   ]
  },
  {
   "cell_type": "code",
   "execution_count": 3,
   "metadata": {},
   "outputs": [],
   "source": [
    "internal_dynamics   =   \"isotropic-plummer\"\n",
    "NP                  =   int(1e5)\n",
    "MWpotential         =   \"pouliasis2017pii-GCNBody\"\n",
    "GCname              =   \"Pal5\"\n",
    "\n",
    "# hyper parameter\n",
    "threshold = 7 # for the stream density, minimum number of counts"
   ]
  },
  {
   "cell_type": "markdown",
   "metadata": {},
   "source": [
    "# Load the gap results"
   ]
  },
  {
   "cell_type": "code",
   "execution_count": 4,
   "metadata": {},
   "outputs": [],
   "source": [
    "results_path=ph.paths['simulations'] + \"/ImpactGeometry/pouliasis2017pii-GCNBody/Pal5\"+\"/AllImpactGeometryByHandAndEye.csv\"\n",
    "results = pd.read_csv(results_path)\n",
    "withgap=results[results['gap_flag']]"
   ]
  },
  {
   "cell_type": "markdown",
   "metadata": {},
   "source": [
    "initialize the output array for the stream length of each simulation\n"
   ]
  },
  {
   "cell_type": "code",
   "execution_count": 5,
   "metadata": {},
   "outputs": [],
   "source": [
    "nmontecarlo = np.unique(results['montecarlokey'].to_numpy()).shape[0]\n",
    "gapCreationRate = np.zeros(nmontecarlo)"
   ]
  },
  {
   "cell_type": "code",
   "execution_count": 6,
   "metadata": {},
   "outputs": [
    {
     "name": "stdout",
     "output_type": "stream",
     "text": [
      "monte-carlo-000 has 3 gaps\n",
      "monte-carlo-001 has 1 gaps\n",
      "monte-carlo-002 has 1 gaps\n",
      "monte-carlo-003 has 1 gaps\n",
      "monte-carlo-004 has 1 gaps\n",
      "monte-carlo-005 has 2 gaps\n",
      "monte-carlo-006 has 2 gaps\n",
      "monte-carlo-007 has 2 gaps\n",
      "monte-carlo-008 has 1 gaps\n",
      "monte-carlo-009 has 3 gaps\n",
      "monte-carlo-010 has 1 gaps\n",
      "monte-carlo-011 has 2 gaps\n",
      "monte-carlo-012 has 1 gaps\n",
      "monte-carlo-013 has 1 gaps\n",
      "monte-carlo-014 has 2 gaps\n",
      "monte-carlo-015 has 1 gaps\n",
      "monte-carlo-016 has 1 gaps\n",
      "monte-carlo-017 has 1 gaps\n",
      "monte-carlo-019 has 2 gaps\n",
      "monte-carlo-020 has 1 gaps\n",
      "monte-carlo-021 has 1 gaps\n",
      "monte-carlo-022 has 2 gaps\n",
      "monte-carlo-023 has 1 gaps\n",
      "monte-carlo-024 has 2 gaps\n",
      "monte-carlo-025 has 2 gaps\n",
      "monte-carlo-026 has 2 gaps\n",
      "monte-carlo-027 has 3 gaps\n",
      "monte-carlo-028 has 2 gaps\n",
      "monte-carlo-029 has 1 gaps\n",
      "monte-carlo-030 has 2 gaps\n",
      "monte-carlo-032 has 1 gaps\n",
      "monte-carlo-033 has 4 gaps\n",
      "monte-carlo-034 has 1 gaps\n",
      "monte-carlo-035 has 2 gaps\n",
      "monte-carlo-036 has 1 gaps\n",
      "monte-carlo-037 has 1 gaps\n",
      "monte-carlo-038 has 1 gaps\n",
      "monte-carlo-039 has 1 gaps\n",
      "monte-carlo-040 has 1 gaps\n",
      "monte-carlo-041 has 1 gaps\n",
      "monte-carlo-042 has 2 gaps\n",
      "monte-carlo-043 has 1 gaps\n",
      "monte-carlo-044 has 2 gaps\n",
      "monte-carlo-047 has 1 gaps\n",
      "monte-carlo-048 has 3 gaps\n",
      "monte-carlo-049 has 2 gaps\n",
      "Total time taken:  0:00:02.139731 s\n"
     ]
    }
   ],
   "source": [
    "# iterate over the monte-carlo-keys to extract when the gaps occured\n",
    "start_time = datetime.datetime.now()\n",
    "for i in range(nmontecarlo):\n",
    "    montecarlokey = \"monte-carlo-\"+str(i).zfill(3)\n",
    "    criteria = withgap[\"montecarlokey\"]==montecarlokey\n",
    "    # only compute if a gap exists\n",
    "    if criteria.any():\n",
    "        print(montecarlokey, \"has\", withgap[criteria].shape[0], \"gaps\")\n",
    "        # get the subset of the results\n",
    "        subset = withgap[criteria]\n",
    "        # load the stream length\n",
    "        fileTauPath  = ph.tauDensityMaps(GCname=GCname,MWpotential=MWpotential,montecarlokey=montecarlokey,NP=NP,internal_dynamics=internal_dynamics)\n",
    "        # extract the gap length from the denisty profile\n",
    "        tau_centers,time_stamps,tau_counts = sa.identify_suspects.extract_tau_stream_density(fileTauPath)\n",
    "        leftindexes,rightindexes=sa.streamLength.get_envelop_indexes(tau_counts,threshold)\n",
    "        tau_left,tau_right=sa.streamLength.tau_envelopes(tau_centers,leftindexes,rightindexes)\n",
    "        # Extract the orbit \n",
    "        GCorbitspath=ph.GC_orbits(MWpotential=MWpotential,GCname=GCname)\n",
    "        tGC,xGC,yGC,zGC,vxGC,vyGC,vzGC=gcs.extractors.GCOrbits.extract_whole_orbit(GCorbitspath,montecarlokey)\n",
    "        # set the total integration time that was used\n",
    "        T = -tGC[0]\n",
    "        # initialize the gap loop\n",
    "        ngaps = subset.shape[0]\n",
    "        ls = np.zeros(ngaps)   \n",
    "        # loop over the gaps \n",
    "        for j in range(ngaps):\n",
    "            # get the time indexes\n",
    "            impact_time = subset['T'].iloc[j]\n",
    "            time_index_profile = np.argmin(np.abs(impact_time-time_stamps))\n",
    "            my_tau_left = tau_left[time_index_profile]\n",
    "            my_tau_right = tau_right[time_index_profile]\n",
    "\n",
    "            # match the time indexes\n",
    "            time_index_orbit = np.argmin(np.abs(tGC-impact_time))\n",
    "            left_time_index_orbit = np.argmin(np.abs(tGC-(impact_time+my_tau_left)))\n",
    "            right_time_index_orbit = np.argmin(np.abs(tGC-(impact_time+my_tau_right)))\n",
    "            # do the numeric line integral\n",
    "            dxs=np.diff(xGC[left_time_index_orbit:right_time_index_orbit])\n",
    "            dys=np.diff(yGC[left_time_index_orbit:right_time_index_orbit])\n",
    "            dzs=np.diff(zGC[left_time_index_orbit:right_time_index_orbit])\n",
    "            ds=np.sqrt(dxs**2+dys**2+dzs**2)\n",
    "            ls[j] = np.sum(ds)\n",
    "        gapCreationRate[i]=np.sum(1/ls)/T  \n",
    "endtime = datetime.datetime.now()\n",
    "print(\"Total time taken: \", endtime-start_time,\"s\")"
   ]
  },
  {
   "cell_type": "code",
   "execution_count": 7,
   "metadata": {},
   "outputs": [],
   "source": [
    "nbins = int ( np.ceil ( np.sqrt(nmontecarlo) ) )\n",
    "std = np.std(gapCreationRate)\n",
    "bins = np.linspace(0,gapCreationRate.max()+std/10,2*nbins)\n",
    "counts, bins = np.histogram(gapCreationRate,bins=bins)\n",
    "centers = (bins[:-1] + bins[1:]) / 2\n",
    "mode = centers[counts.argmax()]\n",
    "first_quartile = np.percentile(gapCreationRate, 25)\n",
    "third_quartile = np.percentile(gapCreationRate, 75)"
   ]
  },
  {
   "cell_type": "code",
   "execution_count": 8,
   "metadata": {},
   "outputs": [
    {
     "name": "stdout",
     "output_type": "stream",
     "text": [
      "km / (s kpc2)\n"
     ]
    }
   ],
   "source": [
    "# gap creation rate units\n",
    "unitL = u.kpc\n",
    "unitV = u.km/u.s\n",
    "unitT = unitL/unitV\n",
    "unitGapCreationRate = unitT**(-1) * unitL**(-1)\n",
    "print(unitGapCreationRate)"
   ]
  },
  {
   "cell_type": "code",
   "execution_count": 9,
   "metadata": {},
   "outputs": [],
   "source": [
    "unitGapCreationRate = r\"km / (s kpc$^2$)\""
   ]
  },
  {
   "cell_type": "code",
   "execution_count": 11,
   "metadata": {},
   "outputs": [
    {
     "data": {
      "image/png": "[encoded data removed]",
      "text/plain": [
       "<Figure size 500x300 with 1 Axes>"
      ]
     },
     "metadata": {},
     "output_type": "display_data"
    }
   ],
   "source": [
    "from matplotlib.font_manager import FontProperties\n",
    "\n",
    "fig,axis = plt.subplots(figsize=(5,3))\n",
    "axis.hist(gapCreationRate,bins=bins,edgecolor='black',histtype='step',linewidth=1.5)\n",
    "axis.set_xlabel(\"Gap creation rate [{:s}]\".format(unitGapCreationRate))\n",
    "axis.set_ylabel(\"Occurences\")\n",
    "label_width = 2\n",
    "value_width = 10\n",
    "# monospace_font = {'family': 'monospace', 'fontsize': 10}\n",
    "monospace_font = FontProperties(family='Courier New', size=10)\n",
    "\n",
    "\n",
    "label_first = \"{:<{label_width}}:\".format(\"First quartile\", label_width=label_width)\n",
    "value_first = \"{:>{value_width}.4f} {:s}\".format(first_quartile, unitGapCreationRate, value_width=value_width)\n",
    "\n",
    "label_mode = \"{:<{label_width}}:\".format(\"Mode\", label_width=label_width)\n",
    "value_mode = \"{:>{value_width}.4f} {:s}\".format(mode, unitGapCreationRate, value_width=value_width)\n",
    "\n",
    "label_third = \"{:<{label_width}}:\".format(\"Third quartile\", label_width=label_width)\n",
    "value_third = \"{:>{value_width}.4f} {:s}\".format(third_quartile, unitGapCreationRate, value_width=value_width)\n",
    "\n",
    "# Place the text on the plot\n",
    "axis.text(0.50, 0.90, label_first, transform=axis.transAxes, ha='right')\n",
    "axis.text(0.52, 0.90, value_first, transform=axis.transAxes, ha='left')\n",
    "\n",
    "axis.text(0.50, 0.80, label_mode, transform=axis.transAxes, ha='right')\n",
    "axis.text(0.52, 0.80, value_mode, transform=axis.transAxes, ha='left')\n",
    "\n",
    "axis.text(0.50, 0.70, label_third, transform=axis.transAxes, ha='right')\n",
    "axis.text(0.52, 0.70, value_third, transform=axis.transAxes, ha='left')\n",
    "\n",
    "fig.tight_layout()\n",
    "fig.savefig(\"../paper/gap_creation_rate.png\",dpi=300)\n"
   ]
  },
  {
   "cell_type": "code",
   "execution_count": 12,
   "metadata": {},
   "outputs": [
    {
     "name": "stdout",
     "output_type": "stream",
     "text": [
      "NAIVE gap creation rate\n"
     ]
    },
    {
     "data": {
      "text/plain": [
       "0.014117647058823532"
      ]
     },
     "execution_count": 12,
     "metadata": {},
     "output_type": "execute_result"
    }
   ],
   "source": [
    "print(\"NAIVE gap creation rate\")\n",
    "72/5.1/50/20 "
   ]
  },
  {
   "cell_type": "code",
   "execution_count": 13,
   "metadata": {},
   "outputs": [
    {
     "name": "stdout",
     "output_type": "stream",
     "text": [
      "MEAN GAP CREATION RATE\n"
     ]
    },
    {
     "data": {
      "text/plain": [
       "np.float64(0.008568496079473784)"
      ]
     },
     "execution_count": 13,
     "metadata": {},
     "output_type": "execute_result"
    }
   ],
   "source": [
    "print(\"MEAN GAP CREATION RATE\")\n",
    "np.mean(gapCreationRate)"
   ]
  }
 ],
 "metadata": {
  "kernelspec": {
   "display_name": "stream_analysis",
   "language": "python",
   "name": "python3"
  },
  "language_info": {
   "codemirror_mode": {
    "name": "ipython",
    "version": 3
   },
   "file_extension": ".py",
   "mimetype": "text/x-python",
   "name": "python",
   "nbconvert_exporter": "python",
   "pygments_lexer": "ipython3",
   "version": "3.11.11"
  }
 },
 "nbformat": 4,
 "nbformat_minor": 2
}
