{
 "cells": [
  {
   "cell_type": "markdown",
   "metadata": {},
   "source": [
    "# Gap creation rate\n",
    "Inspired from Carlberg et al 2012 \n",
    "\n",
    "$$ R(r) = \\int _M \\int _{v_\\perp} \\int_{0}^{b_{\\textrm{max}}} n(r) N(M) v_\\perp f(v_\\perp) \\pi db dv_\\perp dM$$ \n",
    "\n",
    "for me, I am doing something numerical! so my result is:\n",
    "\n",
    "$$ R_{\\textrm{Pal 5}} =  \\frac{1}{T}\\int_{0}^T \\mathcal{l}^{-1}(t) \\sum_i \\delta(t-t_i) dt$$\n",
    "\n",
    "The delta function is zero everywhere except at $t_i$ which is the time at which the impacts occur. $\\mathcal{l}$ is the length of the stream, and $T$ is the total integration time. Therefore, for a given simulation:\n",
    "\n",
    "$$ R_{j,\\textrm{Pal 5}} =  \\frac{1}{T} \\sum_i \\frac{1}{l (t_i)}$$\n",
    "\n",
    "\n",
    "And then we look at the distribution of R for all the simulations: \n",
    "\n",
    "$$ \\langle R_{\\textrm{Pal 5}}\\rangle = \\textrm{Mean}(R_{j,\\textrm{Pal 5}}) $$"
   ]
  },
  {
   "cell_type": "code",
   "execution_count": 1,
   "metadata": {},
   "outputs": [],
   "source": [
    "import gcs\n"
   ]
  },
  {
   "cell_type": "code",
   "execution_count": 3,
   "metadata": {},
   "outputs": [
    {
     "name": "stdout",
     "output_type": "stream",
     "text": [
      "\u001b[0;31mSignature:\u001b[0m\n",
      "\u001b[0mgcs\u001b[0m\u001b[0;34m.\u001b[0m\u001b[0mpath_handler\u001b[0m\u001b[0;34m.\u001b[0m\u001b[0mtauDensityMaps\u001b[0m\u001b[0;34m(\u001b[0m\u001b[0;34m\u001b[0m\n",
      "\u001b[0;34m\u001b[0m    \u001b[0mGCname\u001b[0m\u001b[0;34m,\u001b[0m\u001b[0;34m\u001b[0m\n",
      "\u001b[0;34m\u001b[0m    \u001b[0mMWpotential\u001b[0m\u001b[0;34m,\u001b[0m\u001b[0;34m\u001b[0m\n",
      "\u001b[0;34m\u001b[0m    \u001b[0mmontecarlokey\u001b[0m\u001b[0;34m,\u001b[0m\u001b[0;34m\u001b[0m\n",
      "\u001b[0;34m\u001b[0m    \u001b[0mNP\u001b[0m\u001b[0;34m,\u001b[0m\u001b[0;34m\u001b[0m\n",
      "\u001b[0;34m\u001b[0m    \u001b[0minternal_dynamics\u001b[0m\u001b[0;34m,\u001b[0m\u001b[0;34m\u001b[0m\n",
      "\u001b[0;34m\u001b[0m\u001b[0;34m)\u001b[0m\u001b[0;34m\u001b[0m\u001b[0;34m\u001b[0m\u001b[0m\n",
      "\u001b[0;31mDocstring:\u001b[0m <no docstring>\n",
      "\u001b[0;31mFile:\u001b[0m      ~/miniconda3/envs/stream_analysis/lib/python3.11/site-packages/gcs-0.1-py3.11.egg/gcs/path_handler.py\n",
      "\u001b[0;31mType:\u001b[0m      function"
     ]
    }
   ],
   "source": [
    "# must now get the tauDensityMaps from the path_handler to find the lengthat each moment in time\n",
    "gcs.path_handler.tauDensityMaps?"
   ]
  },
  {
   "cell_type": "code",
   "execution_count": null,
   "metadata": {},
   "outputs": [],
   "source": []
  }
 ],
 "metadata": {
  "kernelspec": {
   "display_name": "stream_analysis",
   "language": "python",
   "name": "python3"
  },
  "language_info": {
   "codemirror_mode": {
    "name": "ipython",
    "version": 3
   },
   "file_extension": ".py",
   "mimetype": "text/x-python",
   "name": "python",
   "nbconvert_exporter": "python",
   "pygments_lexer": "ipython3",
   "version": "3.11.10"
  }
 },
 "nbformat": 4,
 "nbformat_minor": 2
}
